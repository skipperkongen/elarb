{
 "cells": [
  {
   "cell_type": "code",
   "execution_count": 52,
   "id": "c322d476",
   "metadata": {},
   "outputs": [],
   "source": [
    "from dataclasses import dataclass\n",
    "import numpy as np\n",
    "import matplotlib.pyplot as plt\n",
    "import seaborn as sns"
   ]
  },
  {
   "cell_type": "code",
   "execution_count": 68,
   "id": "b03c7588",
   "metadata": {},
   "outputs": [],
   "source": [
    "@dataclass\n",
    "class Charge:\n",
    "    charged_kWh: float\n",
    "    consumed_kWh: float\n",
    "    cost: float\n",
    "\n",
    "@dataclass\n",
    "class Discharge:\n",
    "    discharged_kWh: float\n",
    "    delivered_kWh: float\n",
    "    cost: float\n",
    "\n",
    "@dataclass\n",
    "class SimpleBattery:\n",
    "    # cost (depreciation) to charge 1 kWh\n",
    "    charge_cost_kWh: float = .3\n",
    "    # cost (depreciation) to discharge 1 kWh\n",
    "    discharge_cost_kWh: float  = 0.0\n",
    "    # charge remaining in battery\n",
    "    remaining_kWh: float  = 0.0\n",
    "    # maximum capacity in kWh\n",
    "    capacity_kWh: float  = 5.0\n",
    "    # maximum kWh charged per hour\n",
    "    max_charge_kWh: float = 1\n",
    "    # maximum kWh discharged per hour\n",
    "    max_discharge_kWh: float = 1\n",
    "    # charge conversion loss in percent\n",
    "    charge_loss: float = 0.07\n",
    "    # discharge conversion loss in percent\n",
    "    discharge_loss: float = 0.07\n",
    "        \n",
    "    def charge(self, network_kWh=np.inf):\n",
    "        \"\"\"\n",
    "        charge the battery for one time unit\n",
    "        \"\"\"\n",
    "        remaining_capacity_kWh = self.capacity_kWh - self.remaining_kWh\n",
    "        consumed_kWh = min(network_kWh, self.max_charge_kWh, remaining_capacity_kWh)\n",
    "        charged_kWh = consumed_kWh * (1 - self.charge_loss)\n",
    "\n",
    "        self.remaining_kWh += charged_kWh\n",
    "        cost = charged_kWh * self.charge_cost_kWh\n",
    "        return Charge(charged_kWh=charged_kWh, consumed_kWh=consumed_kWh, cost=cost)\n",
    "    \n",
    "    def discharge(self, network_kWh=np.inf):\n",
    "        \"\"\"\n",
    "        charge the battery for one time unit\n",
    "        \"\"\"\n",
    "        discharged_kWh = min(\n",
    "            self.remaining_kWh, \n",
    "            self.max_discharge_kWh,\n",
    "            network_kWh * (1+self.discharge_loss)\n",
    "        )\n",
    "        delivered_kWh = discharged_kWh * (1 - self.discharge_loss)\n",
    "        cost = discharged_kWh * self.discharge_cost_kWh\n",
    "        self.remaining_kWh -= discharged_kWh\n",
    "        return Discharge(discharged_kWh=discharged_kWh, delivered_kWh=delivered_kWh, cost=cost)\n",
    "    \n",
    "    def noop(self):\n",
    "        \"\"\"\n",
    "        let the battery chill for one time unit\n",
    "        \"\"\"\n",
    "        pass"
   ]
  },
  {
   "cell_type": "code",
   "execution_count": 78,
   "id": "b906b164",
   "metadata": {},
   "outputs": [
    {
     "data": {
      "image/png": "[encoded data removed]",
      "text/plain": [
       "<Figure size 432x288 with 1 Axes>"
      ]
     },
     "metadata": {
      "needs_background": "light"
     },
     "output_type": "display_data"
    }
   ],
   "source": [
    "battery = SimpleBattery()\n",
    "remaining_kWh = [0.0]\n",
    "cost = [0.0]\n",
    "total_cost = 0\n",
    "n_steps = 100\n",
    "\n",
    "for _ in range(n_steps):\n",
    "    roll = np.random.random()\n",
    "    if roll < .5:\n",
    "        # charge the battery\n",
    "        result = battery.charge()\n",
    "    else:\n",
    "        # discharge the battery\n",
    "        result = battery.discharge()\n",
    "    total_cost += result.cost\n",
    "    cost.append(total_cost)\n",
    "    remaining_kWh.append(battery.remaining_kWh)\n",
    "plt.plot(remaining_kWh, label='stored kWh')\n",
    "plt.plot(cost, label='depreciation')\n",
    "plt.legend()\n",
    "plt.show()"
   ]
  },
  {
   "cell_type": "code",
   "execution_count": null,
   "id": "655f84fd",
   "metadata": {},
   "outputs": [],
   "source": []
  }
 ],
 "metadata": {
  "kernelspec": {
   "display_name": "Python 3 (ipykernel)",
   "language": "python",
   "name": "python3"
  },
  "language_info": {
   "codemirror_mode": {
    "name": "ipython",
    "version": 3
   },
   "file_extension": ".py",
   "mimetype": "text/x-python",
   "name": "python",
   "nbconvert_exporter": "python",
   "pygments_lexer": "ipython3",
   "version": "3.9.5"
  }
 },
 "nbformat": 4,
 "nbformat_minor": 5
}
