{
 "cells": [
  {
   "cell_type": "code",
   "execution_count": 1,
   "id": "60e84140",
   "metadata": {},
   "outputs": [],
   "source": [
    "import copy\n",
    "from dataclasses import dataclass\n",
    "import datetime\n",
    "import typing as T\n",
    "\n",
    "import matplotlib.pyplot as plt\n",
    "import numpy as np\n",
    "import pandas as pd\n",
    "import requests\n",
    "import seaborn as sns\n",
    "\n",
    "from IPython.display import display\n",
    "import ipywidgets as widgets"
   ]
  },
  {
   "cell_type": "markdown",
   "id": "bad6536c",
   "metadata": {},
   "source": [
    "## Setup"
   ]
  },
  {
   "cell_type": "code",
   "execution_count": 2,
   "id": "fa463bdb",
   "metadata": {},
   "outputs": [
    {
     "name": "stdout",
     "output_type": "stream",
     "text": [
      "From date:\n"
     ]
    },
    {
     "data": {
      "application/vnd.jupyter.widget-view+json": {
       "model_id": "e4b51bfce2e84621a27fe85e1a96b1fe",
       "version_major": 2,
       "version_minor": 0
      },
      "text/plain": [
       "DatePicker(value=None)"
      ]
     },
     "metadata": {},
     "output_type": "display_data"
    },
    {
     "name": "stdout",
     "output_type": "stream",
     "text": [
      "To date:\n"
     ]
    },
    {
     "data": {
      "application/vnd.jupyter.widget-view+json": {
       "model_id": "ad9c7fb5b42b4a77a922329f99ab35b6",
       "version_major": 2,
       "version_minor": 0
      },
      "text/plain": [
       "DatePicker(value=None)"
      ]
     },
     "metadata": {},
     "output_type": "display_data"
    }
   ],
   "source": [
    "from_date = widgets.DatePicker()\n",
    "to_date = widgets.DatePicker()\n",
    "print('From date:')\n",
    "display(from_date)\n",
    "print('To date:')\n",
    "display(to_date)"
   ]
  },
  {
   "cell_type": "markdown",
   "id": "99e56dbd",
   "metadata": {},
   "source": [
    "## Visualisation & utility functions"
   ]
  },
  {
   "cell_type": "code",
   "execution_count": 3,
   "id": "971143c3",
   "metadata": {},
   "outputs": [],
   "source": [
    "def pivot_to_hm(df):\n",
    "    dates = sorted(df.dt.unique())\n",
    "    df_hm = pd.DataFrame(index=sorted(df.h.unique()))\n",
    "    for date in dates:\n",
    "        dt_col = pd.to_datetime(date).date().isoformat().replace('-', '_')\n",
    "        df_sub = df[df.dt == date].set_index('h').SpotPriceDKK.to_frame(dt_col)\n",
    "        df_sub[dt_col] = df_sub[dt_col] / 1000.0\n",
    "        df_hm = df_hm.join(df_sub)\n",
    "    return df_hm"
   ]
  },
  {
   "cell_type": "code",
   "execution_count": 4,
   "id": "3b6d5ec9",
   "metadata": {},
   "outputs": [],
   "source": [
    "def spot_heatmap(df, annot=True):\n",
    "    df_plot = pivot_to_hm(df)\n",
    "    sns.heatmap(df_plot, annot=annot, cmap='RdYlGn_r', fmt='.3g')\n",
    "    plt.show()"
   ]
  },
  {
   "cell_type": "markdown",
   "id": "0229c606",
   "metadata": {},
   "source": [
    "## Load data"
   ]
  },
  {
   "cell_type": "code",
   "execution_count": 5,
   "id": "780826bb",
   "metadata": {},
   "outputs": [
    {
     "data": {
      "text/html": [
       "<div>\n",
       "<style scoped>\n",
       "    .dataframe tbody tr th:only-of-type {\n",
       "        vertical-align: middle;\n",
       "    }\n",
       "\n",
       "    .dataframe tbody tr th {\n",
       "        vertical-align: top;\n",
       "    }\n",
       "\n",
       "    .dataframe thead th {\n",
       "        text-align: right;\n",
       "    }\n",
       "</style>\n",
       "<table border=\"1\" class=\"dataframe\">\n",
       "  <thead>\n",
       "    <tr style=\"text-align: right;\">\n",
       "      <th></th>\n",
       "      <th>HourUTC</th>\n",
       "      <th>HourDK</th>\n",
       "      <th>PriceArea</th>\n",
       "      <th>SpotPriceDKK</th>\n",
       "      <th>SpotPriceEUR</th>\n",
       "      <th>dt</th>\n",
       "      <th>h</th>\n",
       "    </tr>\n",
       "  </thead>\n",
       "  <tbody>\n",
       "    <tr>\n",
       "      <th>0</th>\n",
       "      <td>2022-09-29 21:00:00</td>\n",
       "      <td>2022-09-29 23:00:00</td>\n",
       "      <td>DK2</td>\n",
       "      <td>2784.679932</td>\n",
       "      <td>374.459991</td>\n",
       "      <td>2022-09-29</td>\n",
       "      <td>23</td>\n",
       "    </tr>\n",
       "    <tr>\n",
       "      <th>1</th>\n",
       "      <td>2022-09-29 20:00:00</td>\n",
       "      <td>2022-09-29 22:00:00</td>\n",
       "      <td>DK2</td>\n",
       "      <td>2952.530029</td>\n",
       "      <td>397.029999</td>\n",
       "      <td>2022-09-29</td>\n",
       "      <td>22</td>\n",
       "    </tr>\n",
       "    <tr>\n",
       "      <th>2</th>\n",
       "      <td>2022-09-29 19:00:00</td>\n",
       "      <td>2022-09-29 21:00:00</td>\n",
       "      <td>DK2</td>\n",
       "      <td>3160.449951</td>\n",
       "      <td>424.989990</td>\n",
       "      <td>2022-09-29</td>\n",
       "      <td>21</td>\n",
       "    </tr>\n",
       "    <tr>\n",
       "      <th>3</th>\n",
       "      <td>2022-09-29 18:00:00</td>\n",
       "      <td>2022-09-29 20:00:00</td>\n",
       "      <td>DK2</td>\n",
       "      <td>3867.000000</td>\n",
       "      <td>520.000000</td>\n",
       "      <td>2022-09-29</td>\n",
       "      <td>20</td>\n",
       "    </tr>\n",
       "    <tr>\n",
       "      <th>4</th>\n",
       "      <td>2022-09-29 17:00:00</td>\n",
       "      <td>2022-09-29 19:00:00</td>\n",
       "      <td>DK2</td>\n",
       "      <td>4499.100098</td>\n",
       "      <td>605.000000</td>\n",
       "      <td>2022-09-29</td>\n",
       "      <td>19</td>\n",
       "    </tr>\n",
       "  </tbody>\n",
       "</table>\n",
       "</div>"
      ],
      "text/plain": [
       "              HourUTC              HourDK PriceArea  SpotPriceDKK  \\\n",
       "0 2022-09-29 21:00:00 2022-09-29 23:00:00       DK2   2784.679932   \n",
       "1 2022-09-29 20:00:00 2022-09-29 22:00:00       DK2   2952.530029   \n",
       "2 2022-09-29 19:00:00 2022-09-29 21:00:00       DK2   3160.449951   \n",
       "3 2022-09-29 18:00:00 2022-09-29 20:00:00       DK2   3867.000000   \n",
       "4 2022-09-29 17:00:00 2022-09-29 19:00:00       DK2   4499.100098   \n",
       "\n",
       "   SpotPriceEUR         dt   h  \n",
       "0    374.459991 2022-09-29  23  \n",
       "1    397.029999 2022-09-29  22  \n",
       "2    424.989990 2022-09-29  21  \n",
       "3    520.000000 2022-09-29  20  \n",
       "4    605.000000 2022-09-29  19  "
      ]
     },
     "execution_count": 5,
     "metadata": {},
     "output_type": "execute_result"
    }
   ],
   "source": [
    "#df = download_nordpool_data(from_date.value, to_date.value)\n",
    "#df.to_csv('../data/nordpool_2022_Q3.csv', index=False)\n",
    "df = pd.read_csv('../data/nordpool_2022_Q3.csv', parse_dates=['HourUTC', 'HourDK', 'dt'])\n",
    "#df.HourUTC = pd.to_datetime(df.HourUTC)\n",
    "#df.HourDK = pd.to_datetime(df.HourDK)\n",
    "#df.dt = pd.to_datetime(df.dt).dt.date\n",
    "df.head()"
   ]
  },
  {
   "cell_type": "code",
   "execution_count": 6,
   "id": "8ff1e9e3",
   "metadata": {},
   "outputs": [
    {
     "data": {
      "text/html": [
       "<div>\n",
       "<style scoped>\n",
       "    .dataframe tbody tr th:only-of-type {\n",
       "        vertical-align: middle;\n",
       "    }\n",
       "\n",
       "    .dataframe tbody tr th {\n",
       "        vertical-align: top;\n",
       "    }\n",
       "\n",
       "    .dataframe thead th {\n",
       "        text-align: right;\n",
       "    }\n",
       "</style>\n",
       "<table border=\"1\" class=\"dataframe\">\n",
       "  <thead>\n",
       "    <tr style=\"text-align: right;\">\n",
       "      <th></th>\n",
       "      <th>2022_09_21</th>\n",
       "      <th>2022_09_22</th>\n",
       "      <th>2022_09_23</th>\n",
       "      <th>2022_09_24</th>\n",
       "      <th>2022_09_25</th>\n",
       "      <th>2022_09_26</th>\n",
       "      <th>2022_09_27</th>\n",
       "      <th>2022_09_28</th>\n",
       "      <th>2022_09_29</th>\n",
       "    </tr>\n",
       "  </thead>\n",
       "  <tbody>\n",
       "    <tr>\n",
       "      <th>0</th>\n",
       "      <td>2.30756</td>\n",
       "      <td>2.77416</td>\n",
       "      <td>2.62164</td>\n",
       "      <td>2.81037</td>\n",
       "      <td>1.99775</td>\n",
       "      <td>1.84985</td>\n",
       "      <td>1.41990</td>\n",
       "      <td>2.27861</td>\n",
       "      <td>2.61357</td>\n",
       "    </tr>\n",
       "    <tr>\n",
       "      <th>1</th>\n",
       "      <td>2.22784</td>\n",
       "      <td>2.52387</td>\n",
       "      <td>2.38123</td>\n",
       "      <td>2.55889</td>\n",
       "      <td>1.71028</td>\n",
       "      <td>1.33736</td>\n",
       "      <td>1.34026</td>\n",
       "      <td>2.05076</td>\n",
       "      <td>2.50247</td>\n",
       "    </tr>\n",
       "    <tr>\n",
       "      <th>2</th>\n",
       "      <td>2.22754</td>\n",
       "      <td>2.45449</td>\n",
       "      <td>2.32435</td>\n",
       "      <td>2.32026</td>\n",
       "      <td>1.60052</td>\n",
       "      <td>1.16626</td>\n",
       "      <td>1.26263</td>\n",
       "      <td>1.82887</td>\n",
       "      <td>2.42535</td>\n",
       "    </tr>\n",
       "    <tr>\n",
       "      <th>3</th>\n",
       "      <td>2.22784</td>\n",
       "      <td>2.31216</td>\n",
       "      <td>2.23437</td>\n",
       "      <td>2.28457</td>\n",
       "      <td>1.59993</td>\n",
       "      <td>0.90154</td>\n",
       "      <td>1.12506</td>\n",
       "      <td>1.80686</td>\n",
       "      <td>2.34392</td>\n",
       "    </tr>\n",
       "    <tr>\n",
       "      <th>4</th>\n",
       "      <td>2.21074</td>\n",
       "      <td>2.39589</td>\n",
       "      <td>2.25400</td>\n",
       "      <td>2.27758</td>\n",
       "      <td>1.44555</td>\n",
       "      <td>0.73036</td>\n",
       "      <td>1.24441</td>\n",
       "      <td>2.03582</td>\n",
       "      <td>2.37969</td>\n",
       "    </tr>\n",
       "    <tr>\n",
       "      <th>5</th>\n",
       "      <td>2.53542</td>\n",
       "      <td>2.67697</td>\n",
       "      <td>2.41351</td>\n",
       "      <td>2.32554</td>\n",
       "      <td>1.46935</td>\n",
       "      <td>1.15942</td>\n",
       "      <td>1.56133</td>\n",
       "      <td>2.28389</td>\n",
       "      <td>2.56954</td>\n",
       "    </tr>\n",
       "    <tr>\n",
       "      <th>6</th>\n",
       "      <td>3.17548</td>\n",
       "      <td>3.23542</td>\n",
       "      <td>3.05367</td>\n",
       "      <td>2.56692</td>\n",
       "      <td>1.69644</td>\n",
       "      <td>1.81877</td>\n",
       "      <td>2.43513</td>\n",
       "      <td>2.84934</td>\n",
       "      <td>3.27259</td>\n",
       "    </tr>\n",
       "    <tr>\n",
       "      <th>7</th>\n",
       "      <td>3.97670</td>\n",
       "      <td>3.98594</td>\n",
       "      <td>3.38554</td>\n",
       "      <td>2.76457</td>\n",
       "      <td>1.78389</td>\n",
       "      <td>2.48280</td>\n",
       "      <td>3.09300</td>\n",
       "      <td>3.51459</td>\n",
       "      <td>4.23830</td>\n",
       "    </tr>\n",
       "    <tr>\n",
       "      <th>8</th>\n",
       "      <td>3.92434</td>\n",
       "      <td>3.70910</td>\n",
       "      <td>3.15711</td>\n",
       "      <td>2.75624</td>\n",
       "      <td>2.07271</td>\n",
       "      <td>2.45380</td>\n",
       "      <td>3.29793</td>\n",
       "      <td>3.72094</td>\n",
       "      <td>4.33877</td>\n",
       "    </tr>\n",
       "    <tr>\n",
       "      <th>9</th>\n",
       "      <td>3.17615</td>\n",
       "      <td>2.88429</td>\n",
       "      <td>2.79609</td>\n",
       "      <td>2.78963</td>\n",
       "      <td>2.16833</td>\n",
       "      <td>2.16759</td>\n",
       "      <td>3.06578</td>\n",
       "      <td>3.19691</td>\n",
       "      <td>3.55615</td>\n",
       "    </tr>\n",
       "    <tr>\n",
       "      <th>10</th>\n",
       "      <td>2.67805</td>\n",
       "      <td>2.48289</td>\n",
       "      <td>2.60944</td>\n",
       "      <td>2.75081</td>\n",
       "      <td>2.02236</td>\n",
       "      <td>1.93150</td>\n",
       "      <td>2.72796</td>\n",
       "      <td>3.04863</td>\n",
       "      <td>3.29721</td>\n",
       "    </tr>\n",
       "    <tr>\n",
       "      <th>11</th>\n",
       "      <td>2.39174</td>\n",
       "      <td>2.23825</td>\n",
       "      <td>2.51754</td>\n",
       "      <td>2.70292</td>\n",
       "      <td>2.05977</td>\n",
       "      <td>1.61718</td>\n",
       "      <td>2.61278</td>\n",
       "      <td>2.93434</td>\n",
       "      <td>2.80997</td>\n",
       "    </tr>\n",
       "    <tr>\n",
       "      <th>12</th>\n",
       "      <td>2.21884</td>\n",
       "      <td>2.18887</td>\n",
       "      <td>2.36584</td>\n",
       "      <td>2.45389</td>\n",
       "      <td>1.98154</td>\n",
       "      <td>1.21192</td>\n",
       "      <td>2.24098</td>\n",
       "      <td>2.63064</td>\n",
       "      <td>2.93728</td>\n",
       "    </tr>\n",
       "    <tr>\n",
       "      <th>13</th>\n",
       "      <td>2.24777</td>\n",
       "      <td>2.05116</td>\n",
       "      <td>2.19585</td>\n",
       "      <td>2.21809</td>\n",
       "      <td>1.77229</td>\n",
       "      <td>1.29334</td>\n",
       "      <td>2.18075</td>\n",
       "      <td>2.57628</td>\n",
       "      <td>2.56003</td>\n",
       "    </tr>\n",
       "    <tr>\n",
       "      <th>14</th>\n",
       "      <td>2.31559</td>\n",
       "      <td>2.14210</td>\n",
       "      <td>2.41611</td>\n",
       "      <td>2.22337</td>\n",
       "      <td>1.57152</td>\n",
       "      <td>1.14700</td>\n",
       "      <td>2.14640</td>\n",
       "      <td>2.46734</td>\n",
       "      <td>2.49860</td>\n",
       "    </tr>\n",
       "    <tr>\n",
       "      <th>15</th>\n",
       "      <td>2.46804</td>\n",
       "      <td>2.31216</td>\n",
       "      <td>2.45953</td>\n",
       "      <td>2.35804</td>\n",
       "      <td>1.62543</td>\n",
       "      <td>1.22872</td>\n",
       "      <td>2.19518</td>\n",
       "      <td>2.66150</td>\n",
       "      <td>2.74363</td>\n",
       "    </tr>\n",
       "    <tr>\n",
       "      <th>16</th>\n",
       "      <td>2.70928</td>\n",
       "      <td>2.80279</td>\n",
       "      <td>2.76724</td>\n",
       "      <td>2.65466</td>\n",
       "      <td>1.97946</td>\n",
       "      <td>1.46779</td>\n",
       "      <td>2.29244</td>\n",
       "      <td>2.86280</td>\n",
       "      <td>2.89839</td>\n",
       "    </tr>\n",
       "    <tr>\n",
       "      <th>17</th>\n",
       "      <td>3.02474</td>\n",
       "      <td>3.25505</td>\n",
       "      <td>3.13867</td>\n",
       "      <td>2.78457</td>\n",
       "      <td>2.43997</td>\n",
       "      <td>2.29831</td>\n",
       "      <td>2.71636</td>\n",
       "      <td>3.23915</td>\n",
       "      <td>3.30933</td>\n",
       "    </tr>\n",
       "    <tr>\n",
       "      <th>18</th>\n",
       "      <td>3.49518</td>\n",
       "      <td>3.67102</td>\n",
       "      <td>3.42153</td>\n",
       "      <td>3.04602</td>\n",
       "      <td>2.82634</td>\n",
       "      <td>2.89267</td>\n",
       "      <td>2.83683</td>\n",
       "      <td>3.79835</td>\n",
       "      <td>3.89072</td>\n",
       "    </tr>\n",
       "    <tr>\n",
       "      <th>19</th>\n",
       "      <td>4.27237</td>\n",
       "      <td>4.46162</td>\n",
       "      <td>3.51738</td>\n",
       "      <td>3.18084</td>\n",
       "      <td>3.06385</td>\n",
       "      <td>3.11575</td>\n",
       "      <td>3.11560</td>\n",
       "      <td>4.76231</td>\n",
       "      <td>4.49910</td>\n",
       "    </tr>\n",
       "    <tr>\n",
       "      <th>20</th>\n",
       "      <td>3.64785</td>\n",
       "      <td>3.79238</td>\n",
       "      <td>3.23920</td>\n",
       "      <td>3.03152</td>\n",
       "      <td>2.92918</td>\n",
       "      <td>2.94896</td>\n",
       "      <td>2.97826</td>\n",
       "      <td>3.79248</td>\n",
       "      <td>3.86700</td>\n",
       "    </tr>\n",
       "    <tr>\n",
       "      <th>21</th>\n",
       "      <td>3.00184</td>\n",
       "      <td>3.11109</td>\n",
       "      <td>2.94079</td>\n",
       "      <td>2.76286</td>\n",
       "      <td>2.75109</td>\n",
       "      <td>2.45164</td>\n",
       "      <td>2.61323</td>\n",
       "      <td>3.12314</td>\n",
       "      <td>3.16045</td>\n",
       "    </tr>\n",
       "    <tr>\n",
       "      <th>22</th>\n",
       "      <td>2.75152</td>\n",
       "      <td>2.94720</td>\n",
       "      <td>2.83951</td>\n",
       "      <td>2.69727</td>\n",
       "      <td>2.58899</td>\n",
       "      <td>2.25370</td>\n",
       "      <td>2.48131</td>\n",
       "      <td>2.77081</td>\n",
       "      <td>2.95253</td>\n",
       "    </tr>\n",
       "    <tr>\n",
       "      <th>23</th>\n",
       "      <td>2.59826</td>\n",
       "      <td>2.81595</td>\n",
       "      <td>2.68388</td>\n",
       "      <td>2.34213</td>\n",
       "      <td>2.18938</td>\n",
       "      <td>1.96243</td>\n",
       "      <td>2.37736</td>\n",
       "      <td>2.69043</td>\n",
       "      <td>2.78468</td>\n",
       "    </tr>\n",
       "  </tbody>\n",
       "</table>\n",
       "</div>"
      ],
      "text/plain": [
       "    2022_09_21  2022_09_22  2022_09_23  2022_09_24  2022_09_25  2022_09_26  \\\n",
       "0      2.30756     2.77416     2.62164     2.81037     1.99775     1.84985   \n",
       "1      2.22784     2.52387     2.38123     2.55889     1.71028     1.33736   \n",
       "2      2.22754     2.45449     2.32435     2.32026     1.60052     1.16626   \n",
       "3      2.22784     2.31216     2.23437     2.28457     1.59993     0.90154   \n",
       "4      2.21074     2.39589     2.25400     2.27758     1.44555     0.73036   \n",
       "5      2.53542     2.67697     2.41351     2.32554     1.46935     1.15942   \n",
       "6      3.17548     3.23542     3.05367     2.56692     1.69644     1.81877   \n",
       "7      3.97670     3.98594     3.38554     2.76457     1.78389     2.48280   \n",
       "8      3.92434     3.70910     3.15711     2.75624     2.07271     2.45380   \n",
       "9      3.17615     2.88429     2.79609     2.78963     2.16833     2.16759   \n",
       "10     2.67805     2.48289     2.60944     2.75081     2.02236     1.93150   \n",
       "11     2.39174     2.23825     2.51754     2.70292     2.05977     1.61718   \n",
       "12     2.21884     2.18887     2.36584     2.45389     1.98154     1.21192   \n",
       "13     2.24777     2.05116     2.19585     2.21809     1.77229     1.29334   \n",
       "14     2.31559     2.14210     2.41611     2.22337     1.57152     1.14700   \n",
       "15     2.46804     2.31216     2.45953     2.35804     1.62543     1.22872   \n",
       "16     2.70928     2.80279     2.76724     2.65466     1.97946     1.46779   \n",
       "17     3.02474     3.25505     3.13867     2.78457     2.43997     2.29831   \n",
       "18     3.49518     3.67102     3.42153     3.04602     2.82634     2.89267   \n",
       "19     4.27237     4.46162     3.51738     3.18084     3.06385     3.11575   \n",
       "20     3.64785     3.79238     3.23920     3.03152     2.92918     2.94896   \n",
       "21     3.00184     3.11109     2.94079     2.76286     2.75109     2.45164   \n",
       "22     2.75152     2.94720     2.83951     2.69727     2.58899     2.25370   \n",
       "23     2.59826     2.81595     2.68388     2.34213     2.18938     1.96243   \n",
       "\n",
       "    2022_09_27  2022_09_28  2022_09_29  \n",
       "0      1.41990     2.27861     2.61357  \n",
       "1      1.34026     2.05076     2.50247  \n",
       "2      1.26263     1.82887     2.42535  \n",
       "3      1.12506     1.80686     2.34392  \n",
       "4      1.24441     2.03582     2.37969  \n",
       "5      1.56133     2.28389     2.56954  \n",
       "6      2.43513     2.84934     3.27259  \n",
       "7      3.09300     3.51459     4.23830  \n",
       "8      3.29793     3.72094     4.33877  \n",
       "9      3.06578     3.19691     3.55615  \n",
       "10     2.72796     3.04863     3.29721  \n",
       "11     2.61278     2.93434     2.80997  \n",
       "12     2.24098     2.63064     2.93728  \n",
       "13     2.18075     2.57628     2.56003  \n",
       "14     2.14640     2.46734     2.49860  \n",
       "15     2.19518     2.66150     2.74363  \n",
       "16     2.29244     2.86280     2.89839  \n",
       "17     2.71636     3.23915     3.30933  \n",
       "18     2.83683     3.79835     3.89072  \n",
       "19     3.11560     4.76231     4.49910  \n",
       "20     2.97826     3.79248     3.86700  \n",
       "21     2.61323     3.12314     3.16045  \n",
       "22     2.48131     2.77081     2.95253  \n",
       "23     2.37736     2.69043     2.78468  "
      ]
     },
     "execution_count": 6,
     "metadata": {},
     "output_type": "execute_result"
    }
   ],
   "source": [
    "pivot_to_hm(df[df.dt > '2022-09-20'])"
   ]
  },
  {
   "cell_type": "code",
   "execution_count": 7,
   "id": "c847809e",
   "metadata": {},
   "outputs": [
    {
     "data": {
      "image/png": "[encoded data removed]",
      "text/plain": [
       "<Figure size 432x288 with 2 Axes>"
      ]
     },
     "metadata": {
      "needs_background": "light"
     },
     "output_type": "display_data"
    }
   ],
   "source": [
    "spot_heatmap(df, annot=False)"
   ]
  },
  {
   "cell_type": "markdown",
   "id": "58232d01",
   "metadata": {},
   "source": [
    "## Classes"
   ]
  },
  {
   "cell_type": "markdown",
   "id": "d69214c3",
   "metadata": {},
   "source": [
    "### Battery"
   ]
  },
  {
   "cell_type": "code",
   "execution_count": 143,
   "id": "d1d8f2fe",
   "metadata": {},
   "outputs": [],
   "source": [
    "@dataclass\n",
    "class BatteryState:\n",
    "    # cost (depreciation) to charge 1 kWh\n",
    "    depreciation_per_kWh: float = .3\n",
    "    # charge remaining in battery\n",
    "    remaining_kWh: float  = 0.0\n",
    "    # maximum capacity in kWh\n",
    "    capacity_kWh: float  = 5.0\n",
    "    # maximum kWh charged per hour\n",
    "    max_charge_kWh: float = 1\n",
    "    # percentage lost in conversion\n",
    "    loss_pct: float = 0.07\n",
    "\n",
    "@dataclass\n",
    "class Charge:\n",
    "    charged_kWh: float\n",
    "    consumed_kWh: float\n",
    "    cost: float\n",
    "\n",
    "@dataclass\n",
    "class SimpleBattery:\n",
    "    \n",
    "    state: BatteryState = BatteryState()\n",
    "\n",
    "    def charge(self, percentage, grid_kWh=np.inf):\n",
    "        \"\"\"\n",
    "        charge the battery for one time unit\n",
    "        \"\"\"\n",
    "        assert -1 <= percentage <= 1\n",
    "        slack_kWh = self.state.capacity_kWh - self.state.remaining_kWh\n",
    "        \n",
    "        # cannot charge/discharge more than grid can receive/deliver\n",
    "        # cannot charge more than slack x loss\n",
    "        consumed_kWh = min(\n",
    "            self.state.max_charge_kWh, \n",
    "            grid_kWh, \n",
    "            slack_kWh*(1+self.state.loss_pct)\n",
    "        ) * percentage\n",
    "\n",
    "        # lost to conversion\n",
    "        charged_kWh = consumed_kWh * (1-self.state.loss_pct)\n",
    "        \n",
    "        # wear and tear on battery from charging\n",
    "        cost = abs(consumed_kWh)*self.state.depreciation_per_kWh\n",
    "        \n",
    "        # 0 < remaining < capacity\n",
    "        updated_kWh = self.state.remaining_kWh + charged_kWh\n",
    "        self.state.remaining_kWh = min(self.state.capacity_kWh, max(0, updated_kWh))\n",
    "\n",
    "        return Charge(charged_kWh=charged_kWh, consumed_kWh=consumed_kWh, cost=cost)\n",
    "    \n",
    "    def get_state(self):\n",
    "        return copy.deepcopy(self.state)"
   ]
  },
  {
   "cell_type": "code",
   "execution_count": 145,
   "id": "c146d73f",
   "metadata": {},
   "outputs": [
    {
     "data": {
      "text/plain": [
       "<matplotlib.legend.Legend at 0x7ff09b819070>"
      ]
     },
     "execution_count": 145,
     "metadata": {},
     "output_type": "execute_result"
    },
    {
     "data": {
      "image/png": "[encoded data removed]",
      "text/plain": [
       "<Figure size 432x288 with 1 Axes>"
      ]
     },
     "metadata": {
      "needs_background": "light"
     },
     "output_type": "display_data"
    }
   ],
   "source": [
    "bat = SimpleBattery()\n",
    "charges = [0, 1, .5, -.5, -1]\n",
    "remaining = []\n",
    "\n",
    "for pct in charges:\n",
    "    bat.charge(pct)\n",
    "    \n",
    "    remaining.append(bat.get_state().remaining_kWh)\n",
    "\n",
    "n = len(charges)\n",
    "plt.bar(range(n), charges, label='charged', alpha=0.5)\n",
    "plt.plot(range(n), remaining, label='stored')\n",
    "plt.legend()"
   ]
  },
  {
   "cell_type": "markdown",
   "id": "d5927be1",
   "metadata": {},
   "source": [
    "### Market"
   ]
  },
  {
   "cell_type": "code",
   "execution_count": 66,
   "id": "0189290d",
   "metadata": {},
   "outputs": [],
   "source": [
    "@dataclass\n",
    "class MarketState:\n",
    "    price_area: int\n",
    "    ts: np.datetime64\n",
    "    spot_dkk: float\n",
    "    past_spot_dkk: np.ndarray\n",
    "    past_ts: np.ndarray\n",
    "    future_spot_dkk: np.ndarray\n",
    "    future_ts: np.ndarray\n",
    "        \n",
    "        \n",
    "def download_nordpool_data(from_date, to_date, price_area='DK2'):\n",
    "    url = (\n",
    "            f\"https://api.energidataservice.dk/dataset/Elspotprices/download?\"\n",
    "            f\"format=XL&offset=0&start={from_date}T00:00&end={to_date}T00:00\"\n",
    "            f\"&filter=%7B%22PriceArea%22:%22{price_area}%22%7D&sort=HourDK%20DESC&timezone=dk\"\n",
    "    )\n",
    "    df = pd.read_excel(url)\n",
    "    df['dt'] = df.HourDK.dt.date\n",
    "    df['h'] = df.HourDK.dt.hour\n",
    "    return df\n",
    "\n",
    "\n",
    "def market_windows(df, past_window=7*24, future_window=24, ceil=False):\n",
    "    df = df.copy()\n",
    "    area_groups = df.groupby('PriceArea')\n",
    "    for price_area, g in area_groups:\n",
    "        g = g.sort_values(by='HourDK')\n",
    "        n = len(g) - (past_window + future_window) + 1\n",
    "        for i in range(n):\n",
    "            now = i+past_window\n",
    "            t0 = now-past_window\n",
    "            t1 = now+future_window\n",
    "            past = g.iloc[t0:now]\n",
    "            current_ts = g.iloc[now, :].HourDK.to_pydatetime()\n",
    "            if ceil:\n",
    "                t1 += 24-current_ts.hour\n",
    "            future = g.iloc[now: t1]\n",
    "            yield MarketState(\n",
    "                price_area=price_area,\n",
    "                spot_dkk=future.SpotPriceDKK.values[0],\n",
    "                ts=current_ts,\n",
    "                past_spot_dkk=past.SpotPriceDKK.values,\n",
    "                past_ts=[pd.to_datetime(t) for t in past.HourDK.values],\n",
    "                future_spot_dkk=future.SpotPriceDKK.values,\n",
    "                future_ts=[pd.to_datetime(t) for t in future.HourDK.values],\n",
    "            )"
   ]
  },
  {
   "cell_type": "markdown",
   "id": "9a6e512d",
   "metadata": {},
   "source": [
    "## Simulation"
   ]
  },
  {
   "cell_type": "code",
   "execution_count": 153,
   "id": "52e83ebc",
   "metadata": {},
   "outputs": [],
   "source": [
    "def calculate_cost(actions, market_state, battery_state):\n",
    "    battery = SimpleBattery(battery_state)\n",
    "    costs = []\n",
    "    for i in range(len(actions)):\n",
    "        action = actions[i]\n",
    "        spot_dkk = market_state.future_spot_dkk[i]\n",
    "        res = battery.charge(action)\n",
    "        costs.append(res.consumed_kWh*spot_dkk + res.cost)\n",
    "    return costs"
   ]
  },
  {
   "cell_type": "markdown",
   "id": "7d4c09e1",
   "metadata": {},
   "source": [
    "## Optimisation approach"
   ]
  },
  {
   "cell_type": "code",
   "execution_count": 132,
   "id": "8a9b697d",
   "metadata": {},
   "outputs": [],
   "source": [
    "def random_policy(market_state: MarketState, battery_state: BatteryState):\n",
    "    n = len(market.future_ts)\n",
    "    return np.random.uniform(low=-1, high=1, size=n)\n",
    "\n",
    "def greedy_policy(market_state: MarketState, battery_state: BatteryState):\n",
    "    n = len(market.future_ts)\n",
    "    return [1 for _ in range(n)]"
   ]
  },
  {
   "cell_type": "code",
   "execution_count": 169,
   "id": "0a465ca2",
   "metadata": {},
   "outputs": [
    {
     "data": {
      "text/plain": [
       "[<matplotlib.lines.Line2D at 0x7ff09aa134c0>]"
      ]
     },
     "execution_count": 169,
     "metadata": {},
     "output_type": "execute_result"
    },
    {
     "data": {
      "image/png": "[encoded data removed]",
      "text/plain": [
       "<Figure size 432x288 with 1 Axes>"
      ]
     },
     "metadata": {
      "needs_background": "light"
     },
     "output_type": "display_data"
    }
   ],
   "source": [
    "# make it easier to randomly sample a market state\n",
    "market_state = next(market_windows(df, ceil=True))\n",
    "\n",
    "costs = []\n",
    "n_trials = 1000\n",
    "for _ in range(n_trials):\n",
    "    battery_state = SimpleBattery().get_state()\n",
    "    actions = random_policy(market_state, battery_state)\n",
    "    cost = sum(calculate_cost(actions=actions, market_state=market_state, battery_state=battery_state))\n",
    "    costs.append(cost)\n",
    "plt.plot(costs)"
   ]
  },
  {
   "cell_type": "markdown",
   "id": "61e5a202",
   "metadata": {},
   "source": [
    "## Reinforcement Learning approach"
   ]
  },
  {
   "cell_type": "markdown",
   "id": "e68001f6",
   "metadata": {},
   "source": [
    "### Environment"
   ]
  },
  {
   "cell_type": "code",
   "execution_count": 67,
   "id": "e9a28bca",
   "metadata": {},
   "outputs": [],
   "source": [
    "@dataclass\n",
    "class EnvironmentState:\n",
    "    done: bool\n",
    "    reward: float\n",
    "    battery_state: SimpleBattery\n",
    "    market_state: MarketState\n",
    "\n",
    "\n",
    "class Environment:\n",
    "    \n",
    "    def __init__(self, battery, nordpool_df, past_window=7, future_window=2):\n",
    "        self._battery_reset = copy.deepcopy(battery)\n",
    "        self._battery = None\n",
    "        self._nordpool_df = nordpool_df.copy()\n",
    "        self._gen = None\n",
    "        self._past_window = past_window\n",
    "        self._future_window = future_window\n",
    "    \n",
    "    def reset(self):\n",
    "        self._battery =  copy.deepcopy(self._battery_reset)\n",
    "        self._gen = market_windows(\n",
    "            self._nordpool_df,\n",
    "            past_window = self._past_window,\n",
    "            future_window = self._future_window,   \n",
    "        )\n",
    "        return self.step(0)\n",
    "\n",
    "        \n",
    "    def step(self, action: float):\n",
    "        try:\n",
    "            market_state = next(self._gen)\n",
    "            return EnvironmentState(\n",
    "                done=False,\n",
    "                reward=0.0,\n",
    "                battery_state=BatteryState(),\n",
    "                market_state=market_state\n",
    "            )\n",
    "        except StopIteration:\n",
    "            return EnvironmentState(\n",
    "                done=True,\n",
    "                reward=0.0,\n",
    "                battery_state=None,\n",
    "                market_state=None,\n",
    "            )\n",
    "        except Exception as e:\n",
    "            print(e) # or whatever kind of logging you want"
   ]
  },
  {
   "cell_type": "code",
   "execution_count": 68,
   "id": "54feb78c",
   "metadata": {},
   "outputs": [
    {
     "name": "stdout",
     "output_type": "stream",
     "text": [
      "Total reward = 0.0\n"
     ]
    },
    {
     "data": {
      "text/plain": [
       "[<matplotlib.lines.Line2D at 0x7ff09b6cc9a0>]"
      ]
     },
     "execution_count": 68,
     "metadata": {},
     "output_type": "execute_result"
    },
    {
     "data": {
      "image/png": "[encoded data removed]",
      "text/plain": [
       "<Figure size 432x288 with 1 Axes>"
      ]
     },
     "metadata": {
      "needs_background": "light"
     },
     "output_type": "display_data"
    }
   ],
   "source": [
    "env = Environment(battery=SimpleBattery(), nordpool_df=df)\n",
    "state = env.reset()\n",
    "total_reward = 0\n",
    "spot_dkk = []\n",
    "while not state.done:\n",
    "    state = env.step(0.5)\n",
    "    total_reward += state.reward\n",
    "    if state.market_state is not None: \n",
    "        spot_dkk.append(state.market_state.spot_dkk)\n",
    "print(f'Total reward = {total_reward}')\n",
    "plt.plot(spot_dkk)"
   ]
  },
  {
   "cell_type": "code",
   "execution_count": null,
   "id": "bebb5889",
   "metadata": {},
   "outputs": [],
   "source": []
  }
 ],
 "metadata": {
  "kernelspec": {
   "display_name": "Python 3 (ipykernel)",
   "language": "python",
   "name": "python3"
  },
  "language_info": {
   "codemirror_mode": {
    "name": "ipython",
    "version": 3
   },
   "file_extension": ".py",
   "mimetype": "text/x-python",
   "name": "python",
   "nbconvert_exporter": "python",
   "pygments_lexer": "ipython3",
   "version": "3.9.5"
  }
 },
 "nbformat": 4,
 "nbformat_minor": 5
}
