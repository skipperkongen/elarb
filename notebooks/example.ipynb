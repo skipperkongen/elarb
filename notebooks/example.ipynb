{
 "cells": [
  {
   "cell_type": "code",
   "execution_count": 1,
   "id": "e31248d3",
   "metadata": {},
   "outputs": [
    {
     "ename": "NameError",
     "evalue": "name 'n_hours' is not defined",
     "output_type": "error",
     "traceback": [
      "\u001b[0;31m---------------------------------------------------------------------------\u001b[0m",
      "\u001b[0;31mNameError\u001b[0m                                 Traceback (most recent call last)",
      "Cell \u001b[0;32mIn[1], line 56\u001b[0m\n\u001b[1;32m     48\u001b[0m spot_demand_kWh \u001b[38;5;241m=\u001b[39m np\u001b[38;5;241m.\u001b[39mzeros(\u001b[38;5;241m36\u001b[39m) \u001b[38;5;241m+\u001b[39m \u001b[38;5;241m9999\u001b[39m\n\u001b[1;32m     49\u001b[0m spot_supply_kWh \u001b[38;5;241m=\u001b[39m np\u001b[38;5;241m.\u001b[39mzeros(\u001b[38;5;241m36\u001b[39m) \u001b[38;5;241m+\u001b[39m \u001b[38;5;241m9999\u001b[39m\n\u001b[1;32m     51\u001b[0m policy_input \u001b[38;5;241m=\u001b[39m PolicyInput(\n\u001b[1;32m     52\u001b[0m     facility\u001b[38;5;241m=\u001b[39mfacility,\n\u001b[1;32m     53\u001b[0m     spot_price\u001b[38;5;241m=\u001b[39mspot_price,\n\u001b[1;32m     54\u001b[0m     pv_dc_kWh_m2\u001b[38;5;241m=\u001b[39mpv_kwh,\n\u001b[1;32m     55\u001b[0m     net_tariff\u001b[38;5;241m=\u001b[39mnet_tariff,\n\u001b[0;32m---> 56\u001b[0m     spot_demand_kWh\u001b[38;5;241m=\u001b[39mnp\u001b[38;5;241m.\u001b[39mzeros(\u001b[43mn_hours\u001b[49m) \u001b[38;5;241m+\u001b[39m \u001b[38;5;241m9999\u001b[39m,\n\u001b[1;32m     57\u001b[0m     spot_supply_kWh\u001b[38;5;241m=\u001b[39mnp\u001b[38;5;241m.\u001b[39mzeros(n_hours) \u001b[38;5;241m+\u001b[39m \u001b[38;5;241m9999\u001b[39m,\n\u001b[1;32m     58\u001b[0m     initial_soc\u001b[38;5;241m=\u001b[39m\u001b[38;5;241m0.0\u001b[39m\n\u001b[1;32m     59\u001b[0m )\n\u001b[1;32m     61\u001b[0m res \u001b[38;5;241m=\u001b[39m optimal_policy(policy_input)\n\u001b[1;32m     63\u001b[0m \u001b[38;5;28mprint\u001b[39m()\n",
      "\u001b[0;31mNameError\u001b[0m: name 'n_hours' is not defined"
     ]
    }
   ],
   "source": [
    "import numpy as np\n",
    "\n",
    "from elarb.policy import optimal_policy, PolicyInput\n",
    "from elarb.models import SolarPanel, Battery, GridConnection, Inverter, Facility\n",
    "\n",
    "# solar panels: 470Wp JinKO TigerNeo N-Type 60HL4 BF, 1.57 kWh / time, costs 1565 DKK\n",
    "panel = SolarPanel(m2=0.75, depreciation_per_hour=0.006)\n",
    "# Deye SUN-12K-SG04LP3-EU\n",
    "inverter = Inverter(depreciation_per_hour=0.05, throughput_kWh=15.6, conversion_loss_pct=0.03)\n",
    "# battery: Powerwall LBATTS Powerwall, 8.8 kwh\n",
    "# bat_cost_dkk = 21000; bat_cycles = 6000; bat_depreciation = np.round(bat_cost_dkk / (8.8*bat_cycles), 3)\n",
    "battery = Battery(depreciation_per_kWh=0.3, throughput_kWh=3.3, capacity_kWh=8.8, conversion_loss_pct=0.03)\n",
    "# DK grid, udvidet stikledning\n",
    "amp = 63\n",
    "volt = 400\n",
    "grid = GridConnection(throughput_kWh=amp * volt / 1000)\n",
    "\n",
    "# Connect components in a facility\n",
    "facility=Facility(\n",
    "    panel=panel,\n",
    "    battery=battery,\n",
    "    inverter=inverter,\n",
    "    grid=grid,\n",
    "    n_panels=12,\n",
    "    n_batteries=1,\n",
    "    n_inverters=1,\n",
    ")\n",
    "\n",
    "\n",
    "spot_price = np.array([\n",
    "    2.94, 2.73, 2.72, 3.01, 3.03, 3.44, 3.65, 3.82, 3.75, 3.61, 3.43,\n",
    "    3.16, 3.16, 1.47, 1.47, 1.47, 1.47, 1.47, 3.03, 3.15, 3.07, 2.89,\n",
    "    2.5 , 2.3 , 2.  , 1.76, 1.84, 2.17, 2.36, 2.89, 3.17, 3.38, 3.48,\n",
    "    3.47, 3.47, 3.29])\n",
    "\n",
    "pv_kwh = np.array([\n",
    "    0.32, 0.27, 0.2 , 0.13, 0.09, 0.06, 0.02, 0.  , 0.  , 0.  , 0.  ,\n",
    "    0.  , 0.  , 0.  , 0.  , 0.  , 0.  , 0.02, 0.07, 0.16, 0.3 , 0.47,\n",
    "    0.48, 0.46, 0.33, 0.34, 0.28, 0.23, 0.16, 0.1 , 0.04, 0.01, 0.  ,\n",
    "    0.  , 0.  , 0.  ])\n",
    "# https://radiuselnet.dk/elnetkunder/tariffer-og-netabonnement/\n",
    "net_tariff = np.array([\n",
    "    0.25, 0.25, 0.25, 0.25, 0.25, 0.66, 0.66, 0.66, \n",
    "    0.66, 0.25, 0.25, 0.25, 0.17, 0.17, 0.17, 0.17, \n",
    "    0.17, 0.17, 0.25, 0.25, 0.25, 0.25, 0.25, 0.25, \n",
    "    0.25, 0.25, 0.25, 0.25, 0.25, 0.66, 0.66, 0.66, \n",
    "    0.66, 0.25, 0.25, 0.25, ])\n",
    "spot_demand_kWh = np.zeros(36) + 9999\n",
    "spot_supply_kWh = np.zeros(36) + 9999\n",
    "\n",
    "policy_input = PolicyInput(\n",
    "    facility=facility,\n",
    "    spot_price=spot_price,\n",
    "    pv_dc_kWh_m2=pv_kwh,\n",
    "    net_tariff=net_tariff,\n",
    "    spot_demand_kWh=spot_demand_kWh,\n",
    "    spot_supply_kWh=np.zeros(n_hours) + 9999,\n",
    "    initial_soc=0.0\n",
    ")\n",
    "\n",
    "res = optimal_policy(policy_input)\n",
    "\n",
    "print()\n",
    "print('Result')\n",
    "print('- Profit:', np.round(res.value, 3))\n",
    "print('- PV contribution:', np.round(res.x1_contrib, 3))\n",
    "print('- X2 contribution:', np.round(res.x2_contrib, 3))\n",
    "print('- X3 contribution:', np.round(res.x3_contrib, 3))\n",
    "print('- X4 contribution:', np.round(res.x4_contrib, 3))\n",
    "print('- Panel deprecation:', np.round(res.panel_depreciation, 3))\n",
    "print('- Inverter deprecation:', np.round(res.inverter_depreciation, 3))\n",
    "print('- Battery deprecation:', np.round(res.battery_depreciation, 3))\n",
    "print('- Battery soc:', res.battery_soc_kWh.round(3))"
   ]
  },
  {
   "cell_type": "code",
   "execution_count": null,
   "id": "efdbb45b",
   "metadata": {},
   "outputs": [],
   "source": []
  }
 ],
 "metadata": {
  "kernelspec": {
   "display_name": "Python 3 (ipykernel)",
   "language": "python",
   "name": "python3"
  },
  "language_info": {
   "codemirror_mode": {
    "name": "ipython",
    "version": 3
   },
   "file_extension": ".py",
   "mimetype": "text/x-python",
   "name": "python",
   "nbconvert_exporter": "python",
   "pygments_lexer": "ipython3",
   "version": "3.11.1"
  }
 },
 "nbformat": 4,
 "nbformat_minor": 5
}
