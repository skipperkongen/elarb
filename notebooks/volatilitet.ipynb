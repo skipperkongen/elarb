{
 "cells": [
  {
   "cell_type": "code",
   "execution_count": 118,
   "id": "825e455b",
   "metadata": {},
   "outputs": [],
   "source": [
    "import pandas as pd\n",
    "import requests\n",
    "import matplotlib.pyplot as plt\n",
    "import seaborn as sns\n",
    "import numpy as np\n",
    "from IPython.display import display\n",
    "import ipywidgets as widgets\n",
    "from dataclasses import dataclass\n",
    "import typing as T\n",
    "import datetime"
   ]
  },
  {
   "cell_type": "code",
   "execution_count": 3,
   "id": "1bbd9597",
   "metadata": {},
   "outputs": [
    {
     "name": "stdout",
     "output_type": "stream",
     "text": [
      "From date:\n"
     ]
    },
    {
     "data": {
      "application/vnd.jupyter.widget-view+json": {
       "model_id": "f0f22aaef98d4ed7b46ff96a78316630",
       "version_major": 2,
       "version_minor": 0
      },
      "text/plain": [
       "DatePicker(value=None)"
      ]
     },
     "metadata": {},
     "output_type": "display_data"
    },
    {
     "name": "stdout",
     "output_type": "stream",
     "text": [
      "To date:\n"
     ]
    },
    {
     "data": {
      "application/vnd.jupyter.widget-view+json": {
       "model_id": "458a342350454fcbae5cea5c9e3f32b8",
       "version_major": 2,
       "version_minor": 0
      },
      "text/plain": [
       "DatePicker(value=None)"
      ]
     },
     "metadata": {},
     "output_type": "display_data"
    }
   ],
   "source": [
    "from_date = widgets.DatePicker()\n",
    "to_date = widgets.DatePicker()\n",
    "print('From date:')\n",
    "display(from_date)\n",
    "print('To date:')\n",
    "display(to_date)"
   ]
  },
  {
   "cell_type": "code",
   "execution_count": 4,
   "id": "00db6c07",
   "metadata": {},
   "outputs": [
    {
     "data": {
      "text/html": [
       "<div>\n",
       "<style scoped>\n",
       "    .dataframe tbody tr th:only-of-type {\n",
       "        vertical-align: middle;\n",
       "    }\n",
       "\n",
       "    .dataframe tbody tr th {\n",
       "        vertical-align: top;\n",
       "    }\n",
       "\n",
       "    .dataframe thead th {\n",
       "        text-align: right;\n",
       "    }\n",
       "</style>\n",
       "<table border=\"1\" class=\"dataframe\">\n",
       "  <thead>\n",
       "    <tr style=\"text-align: right;\">\n",
       "      <th></th>\n",
       "      <th>HourUTC</th>\n",
       "      <th>HourDK</th>\n",
       "      <th>PriceArea</th>\n",
       "      <th>SpotPriceDKK</th>\n",
       "      <th>SpotPriceEUR</th>\n",
       "      <th>dt</th>\n",
       "      <th>h</th>\n",
       "    </tr>\n",
       "  </thead>\n",
       "  <tbody>\n",
       "    <tr>\n",
       "      <th>0</th>\n",
       "      <td>2022-10-02 21:00:00</td>\n",
       "      <td>2022-10-02 23:00:00</td>\n",
       "      <td>DK2</td>\n",
       "      <td>1122.260010</td>\n",
       "      <td>150.919998</td>\n",
       "      <td>2022-10-02</td>\n",
       "      <td>23</td>\n",
       "    </tr>\n",
       "    <tr>\n",
       "      <th>1</th>\n",
       "      <td>2022-10-02 20:00:00</td>\n",
       "      <td>2022-10-02 22:00:00</td>\n",
       "      <td>DK2</td>\n",
       "      <td>1209.859985</td>\n",
       "      <td>162.699997</td>\n",
       "      <td>2022-10-02</td>\n",
       "      <td>22</td>\n",
       "    </tr>\n",
       "    <tr>\n",
       "      <th>2</th>\n",
       "      <td>2022-10-02 19:00:00</td>\n",
       "      <td>2022-10-02 21:00:00</td>\n",
       "      <td>DK2</td>\n",
       "      <td>1713.800049</td>\n",
       "      <td>230.470001</td>\n",
       "      <td>2022-10-02</td>\n",
       "      <td>21</td>\n",
       "    </tr>\n",
       "    <tr>\n",
       "      <th>3</th>\n",
       "      <td>2022-10-02 18:00:00</td>\n",
       "      <td>2022-10-02 20:00:00</td>\n",
       "      <td>DK2</td>\n",
       "      <td>2156.330078</td>\n",
       "      <td>289.980011</td>\n",
       "      <td>2022-10-02</td>\n",
       "      <td>20</td>\n",
       "    </tr>\n",
       "    <tr>\n",
       "      <th>4</th>\n",
       "      <td>2022-10-02 17:00:00</td>\n",
       "      <td>2022-10-02 19:00:00</td>\n",
       "      <td>DK2</td>\n",
       "      <td>2317.989990</td>\n",
       "      <td>311.720001</td>\n",
       "      <td>2022-10-02</td>\n",
       "      <td>19</td>\n",
       "    </tr>\n",
       "  </tbody>\n",
       "</table>\n",
       "</div>"
      ],
      "text/plain": [
       "              HourUTC              HourDK PriceArea  SpotPriceDKK  \\\n",
       "0 2022-10-02 21:00:00 2022-10-02 23:00:00       DK2   1122.260010   \n",
       "1 2022-10-02 20:00:00 2022-10-02 22:00:00       DK2   1209.859985   \n",
       "2 2022-10-02 19:00:00 2022-10-02 21:00:00       DK2   1713.800049   \n",
       "3 2022-10-02 18:00:00 2022-10-02 20:00:00       DK2   2156.330078   \n",
       "4 2022-10-02 17:00:00 2022-10-02 19:00:00       DK2   2317.989990   \n",
       "\n",
       "   SpotPriceEUR          dt   h  \n",
       "0    150.919998  2022-10-02  23  \n",
       "1    162.699997  2022-10-02  22  \n",
       "2    230.470001  2022-10-02  21  \n",
       "3    289.980011  2022-10-02  20  \n",
       "4    311.720001  2022-10-02  19  "
      ]
     },
     "execution_count": 4,
     "metadata": {},
     "output_type": "execute_result"
    }
   ],
   "source": [
    "url = f\"https://api.energidataservice.dk/dataset/Elspotprices/download?format=XL&offset=0&start={from_date.value}T00:00&end={to_date.value}T00:00&filter=%7B%22PriceArea%22:%22DK2%22%7D&sort=HourDK%20DESC&timezone=dk\"\n",
    "df = pd.read_excel(url)\n",
    "df['dt'] = df.HourDK.dt.date\n",
    "df['h'] = df.HourDK.dt.hour\n",
    "df.head()"
   ]
  },
  {
   "cell_type": "code",
   "execution_count": 5,
   "id": "a0031f74",
   "metadata": {},
   "outputs": [
    {
     "data": {
      "text/plain": [
       "Timestamp('2022-10-02 23:00:00')"
      ]
     },
     "execution_count": 5,
     "metadata": {},
     "output_type": "execute_result"
    }
   ],
   "source": [
    "df.HourDK.max()"
   ]
  },
  {
   "cell_type": "code",
   "execution_count": 6,
   "id": "98484e61",
   "metadata": {},
   "outputs": [],
   "source": [
    "def spot_heatmap(df, annot=True):\n",
    "    dates = sorted(df.dt.unique())\n",
    "    df_plot = pd.DataFrame(index=sorted(df.h.unique()))\n",
    "    for date in dates:\n",
    "        dt_col = date.isoformat().replace('-', '_')\n",
    "        df_sub = df[df.dt == date].set_index('h').SpotPriceDKK.to_frame(dt_col)\n",
    "        df_sub[dt_col] = df_sub[dt_col] / 1000.0\n",
    "        df_plot = df_plot.join(df_sub)\n",
    "    sns.heatmap(df_plot, annot=annot, cmap='RdYlGn_r', fmt='.3g')\n",
    "    plt.show()"
   ]
  },
  {
   "cell_type": "code",
   "execution_count": 7,
   "id": "c1e2ae9a",
   "metadata": {},
   "outputs": [
    {
     "data": {
      "image/png": "[encoded data removed]",
      "text/plain": [
       "<Figure size 432x288 with 2 Axes>"
      ]
     },
     "metadata": {
      "needs_background": "light"
     },
     "output_type": "display_data"
    }
   ],
   "source": [
    "spot_heatmap(df, annot=False)"
   ]
  },
  {
   "cell_type": "code",
   "execution_count": 8,
   "id": "4fffa10c",
   "metadata": {},
   "outputs": [],
   "source": [
    "df.to_csv('../snap2.csv', index=False)"
   ]
  },
  {
   "cell_type": "code",
   "execution_count": 21,
   "id": "9a2fa7f2",
   "metadata": {},
   "outputs": [
    {
     "data": {
      "text/html": [
       "<div>\n",
       "<style scoped>\n",
       "    .dataframe tbody tr th:only-of-type {\n",
       "        vertical-align: middle;\n",
       "    }\n",
       "\n",
       "    .dataframe tbody tr th {\n",
       "        vertical-align: top;\n",
       "    }\n",
       "\n",
       "    .dataframe thead th {\n",
       "        text-align: right;\n",
       "    }\n",
       "</style>\n",
       "<table border=\"1\" class=\"dataframe\">\n",
       "  <thead>\n",
       "    <tr style=\"text-align: right;\">\n",
       "      <th></th>\n",
       "      <th>HourUTC</th>\n",
       "      <th>HourDK</th>\n",
       "      <th>PriceArea</th>\n",
       "      <th>SpotPriceDKK</th>\n",
       "      <th>SpotPriceEUR</th>\n",
       "      <th>dt</th>\n",
       "      <th>h</th>\n",
       "    </tr>\n",
       "  </thead>\n",
       "  <tbody>\n",
       "    <tr>\n",
       "      <th>0</th>\n",
       "      <td>2022-10-02 21:00:00</td>\n",
       "      <td>2022-10-02 23:00:00</td>\n",
       "      <td>DK2</td>\n",
       "      <td>1122.260010</td>\n",
       "      <td>150.919998</td>\n",
       "      <td>2022-10-02</td>\n",
       "      <td>23</td>\n",
       "    </tr>\n",
       "    <tr>\n",
       "      <th>1</th>\n",
       "      <td>2022-10-02 20:00:00</td>\n",
       "      <td>2022-10-02 22:00:00</td>\n",
       "      <td>DK2</td>\n",
       "      <td>1209.859985</td>\n",
       "      <td>162.699997</td>\n",
       "      <td>2022-10-02</td>\n",
       "      <td>22</td>\n",
       "    </tr>\n",
       "    <tr>\n",
       "      <th>2</th>\n",
       "      <td>2022-10-02 19:00:00</td>\n",
       "      <td>2022-10-02 21:00:00</td>\n",
       "      <td>DK2</td>\n",
       "      <td>1713.800049</td>\n",
       "      <td>230.470001</td>\n",
       "      <td>2022-10-02</td>\n",
       "      <td>21</td>\n",
       "    </tr>\n",
       "    <tr>\n",
       "      <th>3</th>\n",
       "      <td>2022-10-02 18:00:00</td>\n",
       "      <td>2022-10-02 20:00:00</td>\n",
       "      <td>DK2</td>\n",
       "      <td>2156.330078</td>\n",
       "      <td>289.980011</td>\n",
       "      <td>2022-10-02</td>\n",
       "      <td>20</td>\n",
       "    </tr>\n",
       "    <tr>\n",
       "      <th>4</th>\n",
       "      <td>2022-10-02 17:00:00</td>\n",
       "      <td>2022-10-02 19:00:00</td>\n",
       "      <td>DK2</td>\n",
       "      <td>2317.989990</td>\n",
       "      <td>311.720001</td>\n",
       "      <td>2022-10-02</td>\n",
       "      <td>19</td>\n",
       "    </tr>\n",
       "    <tr>\n",
       "      <th>...</th>\n",
       "      <td>...</td>\n",
       "      <td>...</td>\n",
       "      <td>...</td>\n",
       "      <td>...</td>\n",
       "      <td>...</td>\n",
       "      <td>...</td>\n",
       "      <td>...</td>\n",
       "    </tr>\n",
       "    <tr>\n",
       "      <th>763</th>\n",
       "      <td>2022-09-01 02:00:00</td>\n",
       "      <td>2022-09-01 04:00:00</td>\n",
       "      <td>DK2</td>\n",
       "      <td>3682.840088</td>\n",
       "      <td>495.179993</td>\n",
       "      <td>2022-09-01</td>\n",
       "      <td>4</td>\n",
       "    </tr>\n",
       "    <tr>\n",
       "      <th>764</th>\n",
       "      <td>2022-09-01 01:00:00</td>\n",
       "      <td>2022-09-01 03:00:00</td>\n",
       "      <td>DK2</td>\n",
       "      <td>3570.090088</td>\n",
       "      <td>480.019989</td>\n",
       "      <td>2022-09-01</td>\n",
       "      <td>3</td>\n",
       "    </tr>\n",
       "    <tr>\n",
       "      <th>765</th>\n",
       "      <td>2022-09-01 00:00:00</td>\n",
       "      <td>2022-09-01 02:00:00</td>\n",
       "      <td>DK2</td>\n",
       "      <td>3617.090088</td>\n",
       "      <td>486.339996</td>\n",
       "      <td>2022-09-01</td>\n",
       "      <td>2</td>\n",
       "    </tr>\n",
       "    <tr>\n",
       "      <th>766</th>\n",
       "      <td>2022-08-31 23:00:00</td>\n",
       "      <td>2022-09-01 01:00:00</td>\n",
       "      <td>DK2</td>\n",
       "      <td>3602.360107</td>\n",
       "      <td>484.359985</td>\n",
       "      <td>2022-09-01</td>\n",
       "      <td>1</td>\n",
       "    </tr>\n",
       "    <tr>\n",
       "      <th>767</th>\n",
       "      <td>2022-08-31 22:00:00</td>\n",
       "      <td>2022-09-01 00:00:00</td>\n",
       "      <td>DK2</td>\n",
       "      <td>3650.040039</td>\n",
       "      <td>490.769989</td>\n",
       "      <td>2022-09-01</td>\n",
       "      <td>0</td>\n",
       "    </tr>\n",
       "  </tbody>\n",
       "</table>\n",
       "<p>768 rows × 7 columns</p>\n",
       "</div>"
      ],
      "text/plain": [
       "                HourUTC              HourDK PriceArea  SpotPriceDKK  \\\n",
       "0   2022-10-02 21:00:00 2022-10-02 23:00:00       DK2   1122.260010   \n",
       "1   2022-10-02 20:00:00 2022-10-02 22:00:00       DK2   1209.859985   \n",
       "2   2022-10-02 19:00:00 2022-10-02 21:00:00       DK2   1713.800049   \n",
       "3   2022-10-02 18:00:00 2022-10-02 20:00:00       DK2   2156.330078   \n",
       "4   2022-10-02 17:00:00 2022-10-02 19:00:00       DK2   2317.989990   \n",
       "..                  ...                 ...       ...           ...   \n",
       "763 2022-09-01 02:00:00 2022-09-01 04:00:00       DK2   3682.840088   \n",
       "764 2022-09-01 01:00:00 2022-09-01 03:00:00       DK2   3570.090088   \n",
       "765 2022-09-01 00:00:00 2022-09-01 02:00:00       DK2   3617.090088   \n",
       "766 2022-08-31 23:00:00 2022-09-01 01:00:00       DK2   3602.360107   \n",
       "767 2022-08-31 22:00:00 2022-09-01 00:00:00       DK2   3650.040039   \n",
       "\n",
       "     SpotPriceEUR          dt   h  \n",
       "0      150.919998  2022-10-02  23  \n",
       "1      162.699997  2022-10-02  22  \n",
       "2      230.470001  2022-10-02  21  \n",
       "3      289.980011  2022-10-02  20  \n",
       "4      311.720001  2022-10-02  19  \n",
       "..            ...         ...  ..  \n",
       "763    495.179993  2022-09-01   4  \n",
       "764    480.019989  2022-09-01   3  \n",
       "765    486.339996  2022-09-01   2  \n",
       "766    484.359985  2022-09-01   1  \n",
       "767    490.769989  2022-09-01   0  \n",
       "\n",
       "[768 rows x 7 columns]"
      ]
     },
     "execution_count": 21,
     "metadata": {},
     "output_type": "execute_result"
    }
   ],
   "source": [
    "df"
   ]
  },
  {
   "cell_type": "code",
   "execution_count": 35,
   "id": "b623e1f6",
   "metadata": {},
   "outputs": [
    {
     "name": "stderr",
     "output_type": "stream",
     "text": [
      "/var/folders/6c/gc7czb2n3_357wttfrdbgzrr0000gn/T/ipykernel_22351/472351948.py:4: FutureWarning: Dropping of nuisance columns in DataFrame reductions (with 'numeric_only=None') is deprecated; in a future version this will raise TypeError.  Select only valid columns before calling the reduction.\n",
      "  df_daily.mean()\n"
     ]
    },
    {
     "data": {
      "text/plain": [
       "MinPriceDKK    1323.462195\n",
       "MaxPriceDKK    3594.232506\n",
       "diff           2270.770310\n",
       "dtype: float64"
      ]
     },
     "execution_count": 35,
     "metadata": {},
     "output_type": "execute_result"
    }
   ],
   "source": [
    "df_daily = df.groupby(['dt', 'PriceArea']).agg(\n",
    "    {'SpotPriceDKK': [('MinPriceDKK', 'min'), ('MaxPriceDKK', 'max')]}).SpotPriceDKK.reset_index()\n",
    "df_daily['diff'] = df_daily.MaxPriceDKK - df_daily.MinPriceDKK\n",
    "df_daily.mean()"
   ]
  },
  {
   "cell_type": "code",
   "execution_count": 132,
   "id": "8e259dcc",
   "metadata": {},
   "outputs": [],
   "source": [
    "@dataclass\n",
    "class MarketState:\n",
    "    date0: datetime.date\n",
    "    date1: datetime.date\n",
    "    hours0: np.ndarray\n",
    "    hours1: np.ndarray        \n",
    "    rates0: np.ndarray\n",
    "    rates1: np.ndarray\n",
    "\n",
    "def market_states(df, repeat=False):\n",
    "    hs = np.arange(24)\n",
    "    seq = list(df.sort_values(by='HourDK').groupby('dt'))\n",
    "    window_size = 2\n",
    "    n = len(seq) - window_size + 1\n",
    "    for epoch in range(repeat):\n",
    "        for i in range(n):\n",
    "            pair = seq[i: i + window_size]\n",
    "            if len(pair[0][1]) != 24 or len(pair[1][1]) != 24: continue\n",
    "            s = MarketState(\n",
    "                date0=pair[0][0],\n",
    "                date1=pair[1][0],\n",
    "                hours0=pair[0][1].h.values,\n",
    "                hours1=pair[1][1].h.values,\n",
    "                rates0=pair[0][1].SpotPriceDKK.values,\n",
    "                rates1=pair[1][1].SpotPriceDKK.values,\n",
    "            )\n",
    "            yield s\n"
   ]
  },
  {
   "cell_type": "code",
   "execution_count": 134,
   "id": "24e891ad",
   "metadata": {},
   "outputs": [
    {
     "name": "stdout",
     "output_type": "stream",
     "text": [
      "0 2022-09-01\n",
      "1 2022-09-02\n",
      "2 2022-09-03\n",
      "3 2022-09-04\n",
      "4 2022-09-05\n",
      "5 2022-09-06\n",
      "6 2022-09-07\n",
      "7 2022-09-08\n",
      "8 2022-09-09\n",
      "9 2022-09-10\n",
      "10 2022-09-11\n",
      "11 2022-09-12\n",
      "12 2022-09-13\n",
      "13 2022-09-14\n",
      "14 2022-09-15\n",
      "15 2022-09-16\n",
      "16 2022-09-17\n",
      "17 2022-09-18\n",
      "18 2022-09-19\n",
      "19 2022-09-20\n",
      "20 2022-09-21\n",
      "21 2022-09-22\n",
      "22 2022-09-23\n",
      "23 2022-09-24\n",
      "24 2022-09-25\n",
      "25 2022-09-26\n",
      "26 2022-09-27\n",
      "27 2022-09-28\n",
      "28 2022-09-29\n",
      "29 2022-09-30\n",
      "30 2022-10-01\n",
      "31 2022-09-01\n",
      "32 2022-09-02\n",
      "33 2022-09-03\n",
      "34 2022-09-04\n",
      "35 2022-09-05\n",
      "36 2022-09-06\n"
     ]
    }
   ],
   "source": [
    "for i, state in enumerate(market_states(df, repeat=True)):\n",
    "    print(i, state.date0)\n",
    "    if i > 35: break"
   ]
  },
  {
   "cell_type": "code",
   "execution_count": 88,
   "id": "80ec3732",
   "metadata": {},
   "outputs": [
    {
     "name": "stdout",
     "output_type": "stream",
     "text": [
      "True\n",
      "True\n"
     ]
    }
   ],
   "source": [
    "it = iter(range(3))\n",
    "print(bool(it))\n",
    "try:\n",
    "    while True: next(it)\n",
    "except:\n",
    "    pass\n",
    "print(bool(it))"
   ]
  },
  {
   "cell_type": "code",
   "execution_count": null,
   "id": "bb7bb2d4",
   "metadata": {},
   "outputs": [],
   "source": []
  }
 ],
 "metadata": {
  "kernelspec": {
   "display_name": "Python 3 (ipykernel)",
   "language": "python",
   "name": "python3"
  },
  "language_info": {
   "codemirror_mode": {
    "name": "ipython",
    "version": 3
   },
   "file_extension": ".py",
   "mimetype": "text/x-python",
   "name": "python",
   "nbconvert_exporter": "python",
   "pygments_lexer": "ipython3",
   "version": "3.9.5"
  }
 },
 "nbformat": 4,
 "nbformat_minor": 5
}
