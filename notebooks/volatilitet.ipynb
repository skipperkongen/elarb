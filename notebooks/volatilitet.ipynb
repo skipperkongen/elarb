{
 "cells": [
  {
   "cell_type": "code",
   "execution_count": 91,
   "id": "825e455b",
   "metadata": {},
   "outputs": [],
   "source": [
    "import pandas as pd\n",
    "import requests\n",
    "import matplotlib.pyplot as plt\n",
    "import seaborn as sns\n",
    "import numpy as np\n",
    "from IPython.display import display\n",
    "import ipywidgets as widgets\n"
   ]
  },
  {
   "cell_type": "code",
   "execution_count": 94,
   "id": "1bbd9597",
   "metadata": {},
   "outputs": [
    {
     "name": "stdout",
     "output_type": "stream",
     "text": [
      "From date:\n"
     ]
    },
    {
     "data": {
      "application/vnd.jupyter.widget-view+json": {
       "model_id": "8792425c36e04f7183e31ae4af4e64ab",
       "version_major": 2,
       "version_minor": 0
      },
      "text/plain": [
       "DatePicker(value=None)"
      ]
     },
     "metadata": {},
     "output_type": "display_data"
    },
    {
     "name": "stdout",
     "output_type": "stream",
     "text": [
      "To date:\n"
     ]
    },
    {
     "data": {
      "application/vnd.jupyter.widget-view+json": {
       "model_id": "e0f5c19426514591acca79d2c97166f0",
       "version_major": 2,
       "version_minor": 0
      },
      "text/plain": [
       "DatePicker(value=None)"
      ]
     },
     "metadata": {},
     "output_type": "display_data"
    }
   ],
   "source": [
    "from_date = widgets.DatePicker()\n",
    "to_date = widgets.DatePicker()\n",
    "print('From date:')\n",
    "display(from_date)\n",
    "print('To date:')\n",
    "display(to_date)"
   ]
  },
  {
   "cell_type": "code",
   "execution_count": 104,
   "id": "00db6c07",
   "metadata": {},
   "outputs": [
    {
     "data": {
      "text/html": [
       "<div>\n",
       "<style scoped>\n",
       "    .dataframe tbody tr th:only-of-type {\n",
       "        vertical-align: middle;\n",
       "    }\n",
       "\n",
       "    .dataframe tbody tr th {\n",
       "        vertical-align: top;\n",
       "    }\n",
       "\n",
       "    .dataframe thead th {\n",
       "        text-align: right;\n",
       "    }\n",
       "</style>\n",
       "<table border=\"1\" class=\"dataframe\">\n",
       "  <thead>\n",
       "    <tr style=\"text-align: right;\">\n",
       "      <th></th>\n",
       "      <th>HourUTC</th>\n",
       "      <th>HourDK</th>\n",
       "      <th>PriceArea</th>\n",
       "      <th>SpotPriceDKK</th>\n",
       "      <th>SpotPriceEUR</th>\n",
       "      <th>dt</th>\n",
       "      <th>h</th>\n",
       "    </tr>\n",
       "  </thead>\n",
       "  <tbody>\n",
       "    <tr>\n",
       "      <th>0</th>\n",
       "      <td>2022-09-12 21:00:00</td>\n",
       "      <td>2022-09-12 23:00:00</td>\n",
       "      <td>DK2</td>\n",
       "      <td>2542.629883</td>\n",
       "      <td>341.959991</td>\n",
       "      <td>2022-09-12</td>\n",
       "      <td>23</td>\n",
       "    </tr>\n",
       "    <tr>\n",
       "      <th>1</th>\n",
       "      <td>2022-09-12 20:00:00</td>\n",
       "      <td>2022-09-12 22:00:00</td>\n",
       "      <td>DK2</td>\n",
       "      <td>2743.679932</td>\n",
       "      <td>369.000000</td>\n",
       "      <td>2022-09-12</td>\n",
       "      <td>22</td>\n",
       "    </tr>\n",
       "    <tr>\n",
       "      <th>2</th>\n",
       "      <td>2022-09-12 19:00:00</td>\n",
       "      <td>2022-09-12 21:00:00</td>\n",
       "      <td>DK2</td>\n",
       "      <td>3296.209961</td>\n",
       "      <td>443.309998</td>\n",
       "      <td>2022-09-12</td>\n",
       "      <td>21</td>\n",
       "    </tr>\n",
       "    <tr>\n",
       "      <th>3</th>\n",
       "      <td>2022-09-12 18:00:00</td>\n",
       "      <td>2022-09-12 20:00:00</td>\n",
       "      <td>DK2</td>\n",
       "      <td>3834.020020</td>\n",
       "      <td>515.640015</td>\n",
       "      <td>2022-09-12</td>\n",
       "      <td>20</td>\n",
       "    </tr>\n",
       "    <tr>\n",
       "      <th>4</th>\n",
       "      <td>2022-09-12 17:00:00</td>\n",
       "      <td>2022-09-12 19:00:00</td>\n",
       "      <td>DK2</td>\n",
       "      <td>4019.909912</td>\n",
       "      <td>540.640015</td>\n",
       "      <td>2022-09-12</td>\n",
       "      <td>19</td>\n",
       "    </tr>\n",
       "  </tbody>\n",
       "</table>\n",
       "</div>"
      ],
      "text/plain": [
       "              HourUTC              HourDK PriceArea  SpotPriceDKK  \\\n",
       "0 2022-09-12 21:00:00 2022-09-12 23:00:00       DK2   2542.629883   \n",
       "1 2022-09-12 20:00:00 2022-09-12 22:00:00       DK2   2743.679932   \n",
       "2 2022-09-12 19:00:00 2022-09-12 21:00:00       DK2   3296.209961   \n",
       "3 2022-09-12 18:00:00 2022-09-12 20:00:00       DK2   3834.020020   \n",
       "4 2022-09-12 17:00:00 2022-09-12 19:00:00       DK2   4019.909912   \n",
       "\n",
       "   SpotPriceEUR          dt   h  \n",
       "0    341.959991  2022-09-12  23  \n",
       "1    369.000000  2022-09-12  22  \n",
       "2    443.309998  2022-09-12  21  \n",
       "3    515.640015  2022-09-12  20  \n",
       "4    540.640015  2022-09-12  19  "
      ]
     },
     "execution_count": 104,
     "metadata": {},
     "output_type": "execute_result"
    }
   ],
   "source": [
    "url = f\"https://api.energidataservice.dk/dataset/Elspotprices/download?format=XL&offset=0&start={from_date.value}T00:00&end={to_date.value}T00:00&filter=%7B%22PriceArea%22:%22DK2%22%7D&sort=HourUTC%20DESC&timezone=utc\"\n",
    "df = pd.read_excel(url)\n",
    "df['dt'] = df.HourDK.dt.date\n",
    "df['h'] = df.HourDK.dt.hour\n",
    "df.head()"
   ]
  },
  {
   "cell_type": "code",
   "execution_count": 105,
   "id": "98484e61",
   "metadata": {},
   "outputs": [],
   "source": [
    "def spot_heatmap(df, annot=True):\n",
    "    dates = sorted(df.dt.unique())\n",
    "    df_plot = pd.DataFrame(index=sorted(df.h.unique()))\n",
    "    for date in dates:\n",
    "        dt_col = date.isoformat().replace('-', '_')\n",
    "        df_sub = df[df.dt == date].set_index('h').SpotPriceDKK.to_frame(dt_col)\n",
    "        df_sub[dt_col] = df_sub[dt_col] / 1000.0\n",
    "        df_plot = df_plot.join(df_sub)\n",
    "    sns.heatmap(df_plot, annot=annot, cmap='RdYlGn_r', fmt='.3g')\n",
    "    plt.show()"
   ]
  },
  {
   "cell_type": "code",
   "execution_count": 106,
   "id": "c1e2ae9a",
   "metadata": {},
   "outputs": [
    {
     "data": {
      "image/png": "[encoded data removed]",
      "text/plain": [
       "<Figure size 432x288 with 2 Axes>"
      ]
     },
     "metadata": {
      "needs_background": "light"
     },
     "output_type": "display_data"
    }
   ],
   "source": [
    "spot_heatmap(df, annot=False)"
   ]
  },
  {
   "cell_type": "code",
   "execution_count": null,
   "id": "56b138df",
   "metadata": {},
   "outputs": [],
   "source": []
  }
 ],
 "metadata": {
  "kernelspec": {
   "display_name": "Python 3 (ipykernel)",
   "language": "python",
   "name": "python3"
  },
  "language_info": {
   "codemirror_mode": {
    "name": "ipython",
    "version": 3
   },
   "file_extension": ".py",
   "mimetype": "text/x-python",
   "name": "python",
   "nbconvert_exporter": "python",
   "pygments_lexer": "ipython3",
   "version": "3.9.5"
  }
 },
 "nbformat": 4,
 "nbformat_minor": 5
}
