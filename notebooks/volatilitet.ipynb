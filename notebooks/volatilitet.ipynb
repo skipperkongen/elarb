{
 "cells": [
  {
   "cell_type": "code",
   "execution_count": 25,
   "id": "825e455b",
   "metadata": {},
   "outputs": [],
   "source": [
    "import pandas as pd\n",
    "import requests\n",
    "import matplotlib.pyplot as plt\n",
    "import seaborn as sns\n",
    "import numpy as np\n",
    "from IPython.display import display\n",
    "import ipywidgets as widgets\n",
    "from dataclasses import dataclass\n",
    "import typing as T\n",
    "import datetime as dt"
   ]
  },
  {
   "cell_type": "code",
   "execution_count": 2,
   "id": "1bbd9597",
   "metadata": {},
   "outputs": [
    {
     "name": "stdout",
     "output_type": "stream",
     "text": [
      "From date:\n"
     ]
    },
    {
     "data": {
      "application/vnd.jupyter.widget-view+json": {
       "model_id": "e975a59021214cf0ba7fccc80e2af810",
       "version_major": 2,
       "version_minor": 0
      },
      "text/plain": [
       "DatePicker(value=None)"
      ]
     },
     "metadata": {},
     "output_type": "display_data"
    },
    {
     "name": "stdout",
     "output_type": "stream",
     "text": [
      "To date:\n"
     ]
    },
    {
     "data": {
      "application/vnd.jupyter.widget-view+json": {
       "model_id": "8270eee693d9454ab0e9c803aa42dd95",
       "version_major": 2,
       "version_minor": 0
      },
      "text/plain": [
       "DatePicker(value=None)"
      ]
     },
     "metadata": {},
     "output_type": "display_data"
    }
   ],
   "source": [
    "from_date = widgets.DatePicker()\n",
    "to_date = widgets.DatePicker()\n",
    "print('From date:')\n",
    "display(from_date)\n",
    "print('To date:')\n",
    "display(to_date)"
   ]
  },
  {
   "cell_type": "code",
   "execution_count": 30,
   "id": "00db6c07",
   "metadata": {},
   "outputs": [
    {
     "data": {
      "text/html": [
       "<div>\n",
       "<style scoped>\n",
       "    .dataframe tbody tr th:only-of-type {\n",
       "        vertical-align: middle;\n",
       "    }\n",
       "\n",
       "    .dataframe tbody tr th {\n",
       "        vertical-align: top;\n",
       "    }\n",
       "\n",
       "    .dataframe thead th {\n",
       "        text-align: right;\n",
       "    }\n",
       "</style>\n",
       "<table border=\"1\" class=\"dataframe\">\n",
       "  <thead>\n",
       "    <tr style=\"text-align: right;\">\n",
       "      <th></th>\n",
       "      <th>HourUTC</th>\n",
       "      <th>HourDK</th>\n",
       "      <th>PriceArea</th>\n",
       "      <th>SpotPriceDKK</th>\n",
       "      <th>SpotPriceEUR</th>\n",
       "      <th>dt</th>\n",
       "      <th>h</th>\n",
       "    </tr>\n",
       "  </thead>\n",
       "  <tbody>\n",
       "    <tr>\n",
       "      <th>0</th>\n",
       "      <td>2022-09-19 21:00:00</td>\n",
       "      <td>2022-09-19 23:00:00</td>\n",
       "      <td>DK2</td>\n",
       "      <td>2206.360107</td>\n",
       "      <td>296.690002</td>\n",
       "      <td>2022-09-19</td>\n",
       "      <td>23</td>\n",
       "    </tr>\n",
       "    <tr>\n",
       "      <th>1</th>\n",
       "      <td>2022-09-19 20:00:00</td>\n",
       "      <td>2022-09-19 22:00:00</td>\n",
       "      <td>DK2</td>\n",
       "      <td>2548.370117</td>\n",
       "      <td>342.679993</td>\n",
       "      <td>2022-09-19</td>\n",
       "      <td>22</td>\n",
       "    </tr>\n",
       "    <tr>\n",
       "      <th>2</th>\n",
       "      <td>2022-09-19 19:00:00</td>\n",
       "      <td>2022-09-19 21:00:00</td>\n",
       "      <td>DK2</td>\n",
       "      <td>2788.719971</td>\n",
       "      <td>375.000000</td>\n",
       "      <td>2022-09-19</td>\n",
       "      <td>21</td>\n",
       "    </tr>\n",
       "    <tr>\n",
       "      <th>3</th>\n",
       "      <td>2022-09-19 18:00:00</td>\n",
       "      <td>2022-09-19 20:00:00</td>\n",
       "      <td>DK2</td>\n",
       "      <td>3123.739990</td>\n",
       "      <td>420.049988</td>\n",
       "      <td>2022-09-19</td>\n",
       "      <td>20</td>\n",
       "    </tr>\n",
       "    <tr>\n",
       "      <th>4</th>\n",
       "      <td>2022-09-19 17:00:00</td>\n",
       "      <td>2022-09-19 19:00:00</td>\n",
       "      <td>DK2</td>\n",
       "      <td>3287.350098</td>\n",
       "      <td>442.049988</td>\n",
       "      <td>2022-09-19</td>\n",
       "      <td>19</td>\n",
       "    </tr>\n",
       "  </tbody>\n",
       "</table>\n",
       "</div>"
      ],
      "text/plain": [
       "              HourUTC              HourDK PriceArea  SpotPriceDKK  \\\n",
       "0 2022-09-19 21:00:00 2022-09-19 23:00:00       DK2   2206.360107   \n",
       "1 2022-09-19 20:00:00 2022-09-19 22:00:00       DK2   2548.370117   \n",
       "2 2022-09-19 19:00:00 2022-09-19 21:00:00       DK2   2788.719971   \n",
       "3 2022-09-19 18:00:00 2022-09-19 20:00:00       DK2   3123.739990   \n",
       "4 2022-09-19 17:00:00 2022-09-19 19:00:00       DK2   3287.350098   \n",
       "\n",
       "   SpotPriceEUR          dt   h  \n",
       "0    296.690002  2022-09-19  23  \n",
       "1    342.679993  2022-09-19  22  \n",
       "2    375.000000  2022-09-19  21  \n",
       "3    420.049988  2022-09-19  20  \n",
       "4    442.049988  2022-09-19  19  "
      ]
     },
     "execution_count": 30,
     "metadata": {},
     "output_type": "execute_result"
    }
   ],
   "source": [
    "url = f\"https://api.energidataservice.dk/dataset/Elspotprices/download?format=XL&offset=0&start={from_date.value}T00:00&end={to_date.value}T00:00&filter=%7B%22PriceArea%22:%22DK2%22%7D&sort=HourDK%20DESC&timezone=dk\"\n",
    "df = pd.read_excel(url)\n",
    "df['dt'] = df.HourDK.dt.date\n",
    "df['h'] = df.HourDK.dt.hour\n",
    "df.head()"
   ]
  },
  {
   "cell_type": "code",
   "execution_count": 19,
   "id": "a0031f74",
   "metadata": {},
   "outputs": [
    {
     "data": {
      "text/plain": [
       "Timestamp('2022-09-19 23:00:00')"
      ]
     },
     "execution_count": 19,
     "metadata": {},
     "output_type": "execute_result"
    }
   ],
   "source": [
    "df.HourDK.max()"
   ]
  },
  {
   "cell_type": "code",
   "execution_count": 20,
   "id": "98484e61",
   "metadata": {},
   "outputs": [],
   "source": [
    "def spot_heatmap(df, annot=True):\n",
    "    dates = sorted(df.dt.unique())\n",
    "    df_plot = pd.DataFrame(index=sorted(df.h.unique()))\n",
    "    for date in dates:\n",
    "        dt_col = date.isoformat().replace('-', '_')\n",
    "        df_sub = df[df.dt == date].set_index('h').SpotPriceDKK.to_frame(dt_col)\n",
    "        df_sub[dt_col] = df_sub[dt_col] / 1000.0\n",
    "        df_plot = df_plot.join(df_sub)\n",
    "    sns.heatmap(df_plot, annot=annot, cmap='RdYlGn_r', fmt='.3g')\n",
    "    plt.show()"
   ]
  },
  {
   "cell_type": "code",
   "execution_count": 31,
   "id": "c1e2ae9a",
   "metadata": {},
   "outputs": [
    {
     "data": {
      "image/png": "[encoded data removed]",
      "text/plain": [
       "<Figure size 432x288 with 2 Axes>"
      ]
     },
     "metadata": {
      "needs_background": "light"
     },
     "output_type": "display_data"
    }
   ],
   "source": [
    "spot_heatmap(df, annot=False)"
   ]
  },
  {
   "cell_type": "code",
   "execution_count": 32,
   "id": "4fffa10c",
   "metadata": {},
   "outputs": [],
   "source": [
    "df.to_csv('../snap2.csv', index=False)"
   ]
  },
  {
   "cell_type": "code",
   "execution_count": 28,
   "id": "56b138df",
   "metadata": {},
   "outputs": [],
   "source": [
    "@dataclass\n",
    "class State:\n",
    "    now: dt.datetime\n",
    "    rate: float\n",
    "    rate_window: pd.DataFrame\n",
    "\n",
    "\n",
    "@dataclass\n",
    "class Battery:\n",
    "    pass\n",
    "\n",
    "\n",
    "class Simulator:\n",
    "    def __init__(df):\n",
    "        self.df = df\n",
    "        self.horisont_hours = 14*24 \n",
    "        \n",
    "    def simulate_policy(policy):\n",
    "        pass"
   ]
  },
  {
   "cell_type": "code",
   "execution_count": null,
   "id": "b623e1f6",
   "metadata": {},
   "outputs": [],
   "source": []
  }
 ],
 "metadata": {
  "kernelspec": {
   "display_name": "Python 3 (ipykernel)",
   "language": "python",
   "name": "python3"
  },
  "language_info": {
   "codemirror_mode": {
    "name": "ipython",
    "version": 3
   },
   "file_extension": ".py",
   "mimetype": "text/x-python",
   "name": "python",
   "nbconvert_exporter": "python",
   "pygments_lexer": "ipython3",
   "version": "3.9.5"
  }
 },
 "nbformat": 4,
 "nbformat_minor": 5
}
