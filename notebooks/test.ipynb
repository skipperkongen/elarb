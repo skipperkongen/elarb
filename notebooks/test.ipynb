{
 "cells": [
  {
   "cell_type": "code",
   "execution_count": 1,
   "id": "2d1f1d18",
   "metadata": {},
   "outputs": [],
   "source": [
    "from IPython.display import display\n",
    "import ipywidgets as widgets\n",
    "import matplotlib.pyplot as plt\n",
    "import numpy as np\n",
    "import pandas as pd\n",
    "import seaborn as sns\n",
    "\n",
    "from elarb.policy import (\n",
    "    optimal_policy, PolicyInput,\n",
    ")\n",
    "from elarb.models import (\n",
    "    SolarPanel,\n",
    "    Battery,\n",
    "    GridConnection,\n",
    "    Inverter,\n",
    ")"
   ]
  },
  {
   "cell_type": "code",
   "execution_count": 2,
   "id": "2359e9f5",
   "metadata": {},
   "outputs": [
    {
     "name": "stdout",
     "output_type": "stream",
     "text": [
      "SolarPanel(m2=1.0, depreciation_per_hour=0.0)\n"
     ]
    }
   ],
   "source": [
    "panel = SolarPanel(m2=1.0, depreciation_per_hour=0.0)\n",
    "print(panel)"
   ]
  },
  {
   "cell_type": "code",
   "execution_count": 3,
   "id": "356c070b",
   "metadata": {},
   "outputs": [
    {
     "name": "stdout",
     "output_type": "stream",
     "text": [
      "GridConnection(throughput_kWh=10)\n"
     ]
    }
   ],
   "source": [
    "# DK grid\n",
    "grid = GridConnection(throughput_kWh=10)\n",
    "print(grid)"
   ]
  },
  {
   "cell_type": "code",
   "execution_count": 4,
   "id": "6aa01d17",
   "metadata": {},
   "outputs": [
    {
     "name": "stdout",
     "output_type": "stream",
     "text": [
      "Inverter(depreciation_per_hour=0.0, throughput_kWh=10, conversion_loss_pct=0.0)\n"
     ]
    }
   ],
   "source": [
    "# Deye SUN-12K-SG04LP3-EU\n",
    "inverter = Inverter(depreciation_per_hour=0.0, throughput_kWh=10, conversion_loss_pct=0.0,)\n",
    "print(inverter)"
   ]
  },
  {
   "cell_type": "code",
   "execution_count": 5,
   "id": "d49141ec",
   "metadata": {},
   "outputs": [
    {
     "name": "stdout",
     "output_type": "stream",
     "text": [
      "Battery(depreciation_per_kWh=0.0, throughput_kWh=1.0, capacity_kWh=10, conversion_loss_pct=0.0)\n"
     ]
    }
   ],
   "source": [
    "battery = Battery(depreciation_per_kWh=0.0, throughput_kWh=1.0, capacity_kWh=10, conversion_loss_pct=0.0,)\n",
    "print(battery)"
   ]
  },
  {
   "cell_type": "code",
   "execution_count": 12,
   "id": "93e0261d",
   "metadata": {},
   "outputs": [
    {
     "name": "stdout",
     "output_type": "stream",
     "text": [
      "[0.00000000e+00 1.29065187e-12]\n",
      "[2.89687215e-12 0.00000000e+00]\n",
      "[9.94289672e-13 1.00000000e+00]\n",
      "[1.00000000e+00 5.60082673e-12]\n",
      "[0. 1.]\n"
     ]
    }
   ],
   "source": [
    "n = 2\n",
    "spot_price      = np.array([0,1])\n",
    "pv_kWh          = np.ones(n)\n",
    "spot_demand_kWh = np.ones(n)*10\n",
    "spot_supply_kWh = np.ones(n)*10\n",
    "\n",
    "policy_input = PolicyInput(\n",
    "    pv_kWh=pv_kWh,\n",
    "    spot_price=spot_price,\n",
    "    spot_demand_kWh=spot_demand_kWh,\n",
    "    spot_supply_kWh=spot_supply_kWh,\n",
    "    panel=panel,\n",
    "    battery=battery,\n",
    "    inverter=inverter,\n",
    "    grid=grid,\n",
    "    n_panels=0,\n",
    "    n_batteries=1,\n",
    "    n_inverters=1,\n",
    "    initial_soc=0.0\n",
    ")\n",
    "\n",
    "res = optimal_policy(policy_input)\n",
    "\n",
    "print(res.x1)\n",
    "print(res.x2)\n",
    "print(res.x3)\n",
    "print(res.x4)\n",
    "print(res.battery_soc_kWh.round(2))"
   ]
  },
  {
   "cell_type": "code",
   "execution_count": 7,
   "id": "b2fe70a1",
   "metadata": {},
   "outputs": [],
   "source": [
    "# check soc as function of x3 x4\n",
    "# check that static price -> no battery use\n",
    "# check objective value"
   ]
  },
  {
   "cell_type": "code",
   "execution_count": 10,
   "id": "05415714",
   "metadata": {},
   "outputs": [
    {
     "name": "stdout",
     "output_type": "stream",
     "text": [
      "[1. 1. 1. 1.]\n",
      "[0. 0. 0. 0.]\n",
      "[0. 0. 0. 0.]\n",
      "[0. 0. 0. 0.]\n",
      "[0. 0. 0. 0.]\n"
     ]
    }
   ],
   "source": [
    "n = 4\n",
    "spot_price = np.array([1,1,2,2])\n",
    "pv_kWh     = np.array([1,1,1,1])\n",
    "\n",
    "policy_input = PolicyInput(\n",
    "    pv_kWh=pv_kWh,\n",
    "    spot_price=spot_price,\n",
    "    spot_demand_kWh=np.ones(n)*10,\n",
    "    spot_supply_kWh=np.ones(n)*10,\n",
    "    panel=panel,\n",
    "    battery=battery,\n",
    "    inverter=inverter,\n",
    "    grid=grid,\n",
    "    n_panels=1,\n",
    "    n_batteries=0,\n",
    "    n_inverters=1,\n",
    "    initial_soc=0.0\n",
    ")\n",
    "\n",
    "res = optimal_policy(policy_input)\n",
    "\n",
    "print(res.x1.round(2))\n",
    "print(res.x2.round(2))\n",
    "print(res.x3.round(2))\n",
    "print(res.x4.round(2))\n",
    "print(res.battery_soc_kWh.round(2))"
   ]
  },
  {
   "cell_type": "code",
   "execution_count": 9,
   "id": "8e6a6822",
   "metadata": {},
   "outputs": [
    {
     "data": {
      "text/plain": [
       "array([0, 1, 2, 3, 4])"
      ]
     },
     "execution_count": 9,
     "metadata": {},
     "output_type": "execute_result"
    }
   ],
   "source": [
    "import cvxpy as cp\n",
    "var = cp.Parameter(10)\n",
    "var.value = np.arange(10)\n",
    "var[:5].value"
   ]
  },
  {
   "cell_type": "code",
   "execution_count": null,
   "id": "6aee91f5",
   "metadata": {},
   "outputs": [],
   "source": []
  }
 ],
 "metadata": {
  "kernelspec": {
   "display_name": "Python 3 (ipykernel)",
   "language": "python",
   "name": "python3"
  },
  "language_info": {
   "codemirror_mode": {
    "name": "ipython",
    "version": 3
   },
   "file_extension": ".py",
   "mimetype": "text/x-python",
   "name": "python",
   "nbconvert_exporter": "python",
   "pygments_lexer": "ipython3",
   "version": "3.9.5"
  }
 },
 "nbformat": 4,
 "nbformat_minor": 5
}
