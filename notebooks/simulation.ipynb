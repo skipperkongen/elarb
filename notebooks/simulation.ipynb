{
 "cells": [
  {
   "cell_type": "code",
   "execution_count": 1,
   "id": "fbbe85d5",
   "metadata": {},
   "outputs": [],
   "source": [
    "from IPython.display import display\n",
    "from dataclasses import dataclass\n",
    "import datetime\n",
    "import ipywidgets as widgets\n",
    "import matplotlib.pyplot as plt\n",
    "import numpy as np\n",
    "import pandas as pd\n",
    "import seaborn as sns\n",
    "\n",
    "pd.options.display.max_columns = None\n",
    "\n",
    "from elarb.policy import (\n",
    "    create_policy_input, optimal_policy, PolicyInput, PolicyOutput\n",
    ")\n",
    "from elarb.models import (\n",
    "    SolarPanel,\n",
    "    Battery,\n",
    "    GridConnection,\n",
    "    Inverter,\n",
    "    Facility,\n",
    ")\n",
    "from elarb import datasets"
   ]
  },
  {
   "cell_type": "markdown",
   "id": "128c5d4e",
   "metadata": {},
   "source": [
    "## Load data"
   ]
  },
  {
   "cell_type": "code",
   "execution_count": 35,
   "id": "0aa63bdb",
   "metadata": {},
   "outputs": [
    {
     "data": {
      "text/html": [
       "<div>\n",
       "<style scoped>\n",
       "    .dataframe tbody tr th:only-of-type {\n",
       "        vertical-align: middle;\n",
       "    }\n",
       "\n",
       "    .dataframe tbody tr th {\n",
       "        vertical-align: top;\n",
       "    }\n",
       "\n",
       "    .dataframe thead th {\n",
       "        text-align: right;\n",
       "    }\n",
       "</style>\n",
       "<table border=\"1\" class=\"dataframe\">\n",
       "  <thead>\n",
       "    <tr style=\"text-align: right;\">\n",
       "      <th></th>\n",
       "      <th>price_area</th>\n",
       "      <th>spot_price</th>\n",
       "      <th>pv_dc_kWh_m2</th>\n",
       "      <th>net_tariff</th>\n",
       "      <th>spot_demand_kWh</th>\n",
       "      <th>spot_supply_kWh</th>\n",
       "    </tr>\n",
       "    <tr>\n",
       "      <th>ts</th>\n",
       "      <th></th>\n",
       "      <th></th>\n",
       "      <th></th>\n",
       "      <th></th>\n",
       "      <th></th>\n",
       "      <th></th>\n",
       "    </tr>\n",
       "  </thead>\n",
       "  <tbody>\n",
       "    <tr>\n",
       "      <th>2021-01-01 09:00:00</th>\n",
       "      <td>DK2</td>\n",
       "      <td>0.33395</td>\n",
       "      <td>8.4</td>\n",
       "      <td>0.0</td>\n",
       "      <td>1000</td>\n",
       "      <td>1000</td>\n",
       "    </tr>\n",
       "    <tr>\n",
       "      <th>2021-01-01 10:00:00</th>\n",
       "      <td>DK2</td>\n",
       "      <td>0.33485</td>\n",
       "      <td>83.8</td>\n",
       "      <td>0.0</td>\n",
       "      <td>1000</td>\n",
       "      <td>1000</td>\n",
       "    </tr>\n",
       "    <tr>\n",
       "      <th>2021-01-01 11:00:00</th>\n",
       "      <td>DK2</td>\n",
       "      <td>0.35122</td>\n",
       "      <td>244.4</td>\n",
       "      <td>0.0</td>\n",
       "      <td>1000</td>\n",
       "      <td>1000</td>\n",
       "    </tr>\n",
       "    <tr>\n",
       "      <th>2021-01-01 12:00:00</th>\n",
       "      <td>DK2</td>\n",
       "      <td>0.37785</td>\n",
       "      <td>371.6</td>\n",
       "      <td>0.0</td>\n",
       "      <td>1000</td>\n",
       "      <td>1000</td>\n",
       "    </tr>\n",
       "    <tr>\n",
       "      <th>2021-01-01 13:00:00</th>\n",
       "      <td>DK2</td>\n",
       "      <td>0.33849</td>\n",
       "      <td>265.0</td>\n",
       "      <td>0.0</td>\n",
       "      <td>1000</td>\n",
       "      <td>1000</td>\n",
       "    </tr>\n",
       "    <tr>\n",
       "      <th>...</th>\n",
       "      <td>...</td>\n",
       "      <td>...</td>\n",
       "      <td>...</td>\n",
       "      <td>...</td>\n",
       "      <td>...</td>\n",
       "      <td>...</td>\n",
       "    </tr>\n",
       "    <tr>\n",
       "      <th>2022-10-17 12:00:00</th>\n",
       "      <td>DK2</td>\n",
       "      <td>0.87383</td>\n",
       "      <td>180.1</td>\n",
       "      <td>0.0</td>\n",
       "      <td>1000</td>\n",
       "      <td>1000</td>\n",
       "    </tr>\n",
       "    <tr>\n",
       "      <th>2022-10-17 13:00:00</th>\n",
       "      <td>DK2</td>\n",
       "      <td>0.87494</td>\n",
       "      <td>175.1</td>\n",
       "      <td>0.0</td>\n",
       "      <td>1000</td>\n",
       "      <td>1000</td>\n",
       "    </tr>\n",
       "    <tr>\n",
       "      <th>2022-10-17 14:00:00</th>\n",
       "      <td>DK2</td>\n",
       "      <td>0.91682</td>\n",
       "      <td>153.2</td>\n",
       "      <td>0.0</td>\n",
       "      <td>1000</td>\n",
       "      <td>1000</td>\n",
       "    </tr>\n",
       "    <tr>\n",
       "      <th>2022-10-17 15:00:00</th>\n",
       "      <td>DK2</td>\n",
       "      <td>1.03663</td>\n",
       "      <td>73.4</td>\n",
       "      <td>0.0</td>\n",
       "      <td>1000</td>\n",
       "      <td>1000</td>\n",
       "    </tr>\n",
       "    <tr>\n",
       "      <th>2022-10-17 16:00:00</th>\n",
       "      <td>DK2</td>\n",
       "      <td>1.26221</td>\n",
       "      <td>15.9</td>\n",
       "      <td>0.0</td>\n",
       "      <td>1000</td>\n",
       "      <td>1000</td>\n",
       "    </tr>\n",
       "  </tbody>\n",
       "</table>\n",
       "<p>8667 rows × 6 columns</p>\n",
       "</div>"
      ],
      "text/plain": [
       "                    price_area  spot_price  pv_dc_kWh_m2  net_tariff  \\\n",
       "ts                                                                     \n",
       "2021-01-01 09:00:00        DK2     0.33395           8.4         0.0   \n",
       "2021-01-01 10:00:00        DK2     0.33485          83.8         0.0   \n",
       "2021-01-01 11:00:00        DK2     0.35122         244.4         0.0   \n",
       "2021-01-01 12:00:00        DK2     0.37785         371.6         0.0   \n",
       "2021-01-01 13:00:00        DK2     0.33849         265.0         0.0   \n",
       "...                        ...         ...           ...         ...   \n",
       "2022-10-17 12:00:00        DK2     0.87383         180.1         0.0   \n",
       "2022-10-17 13:00:00        DK2     0.87494         175.1         0.0   \n",
       "2022-10-17 14:00:00        DK2     0.91682         153.2         0.0   \n",
       "2022-10-17 15:00:00        DK2     1.03663          73.4         0.0   \n",
       "2022-10-17 16:00:00        DK2     1.26221          15.9         0.0   \n",
       "\n",
       "                     spot_demand_kWh  spot_supply_kWh  \n",
       "ts                                                     \n",
       "2021-01-01 09:00:00             1000             1000  \n",
       "2021-01-01 10:00:00             1000             1000  \n",
       "2021-01-01 11:00:00             1000             1000  \n",
       "2021-01-01 12:00:00             1000             1000  \n",
       "2021-01-01 13:00:00             1000             1000  \n",
       "...                              ...              ...  \n",
       "2022-10-17 12:00:00             1000             1000  \n",
       "2022-10-17 13:00:00             1000             1000  \n",
       "2022-10-17 14:00:00             1000             1000  \n",
       "2022-10-17 15:00:00             1000             1000  \n",
       "2022-10-17 16:00:00             1000             1000  \n",
       "\n",
       "[8667 rows x 6 columns]"
      ]
     },
     "execution_count": 35,
     "metadata": {},
     "output_type": "execute_result"
    }
   ],
   "source": [
    "BIGNUM = 1000\n",
    "\n",
    "df_nordpool = pd.read_csv('../data/nordpool_21_22.csv', parse_dates=['HourUTC', 'HourDK', 'Date'])\n",
    "df_pv = (\n",
    "    pd.read_csv('../data/pvwatts.csv')\n",
    "    .loc[:, ['Month', 'Day', 'Hour', 'DC Array Output (W)']]\n",
    ")\n",
    "df = df_nordpool.copy()\n",
    "df['Month'] = df.HourDK.dt.month\n",
    "df['Day'] = df.HourDK.dt.day\n",
    "df = (\n",
    "    df.merge(df_pv, on=['Month', 'Day', 'Hour'])\n",
    "    .drop(columns=['HourUTC', 'SpotPriceEUR', 'Date', 'Hour', 'Month', 'Day'])\n",
    "    .drop_duplicates()\n",
    "    .sort_values(by='HourDK')\n",
    "    .rename(columns={\n",
    "        'DC Array Output (W)': 'pv_dc_kWh_m2',\n",
    "        'HourDK': 'ts',\n",
    "        'PriceArea': 'price_area',\n",
    "        'SpotPriceDKK': 'spot_price',\n",
    "    })\n",
    "    .reset_index(drop=True)\n",
    "    .set_index('ts')\n",
    ")\n",
    "df['net_tariff'] = 0.0\n",
    "df['spot_demand_kWh'] = BIGNUM\n",
    "df['spot_supply_kWh'] = BIGNUM\n",
    "df['spot_price'] /= 1000\n",
    "df[df['pv_dc_kWh_m2']>0]"
   ]
  },
  {
   "cell_type": "code",
   "execution_count": 3,
   "id": "4293a892",
   "metadata": {},
   "outputs": [
    {
     "data": {
      "text/plain": [
       "<AxesSubplot:>"
      ]
     },
     "execution_count": 3,
     "metadata": {},
     "output_type": "execute_result"
    },
    {
     "data": {
      "image/png": "[encoded data removed]",
      "text/plain": [
       "<Figure size 432x288 with 1 Axes>"
      ]
     },
     "metadata": {
      "needs_background": "light"
     },
     "output_type": "display_data"
    }
   ],
   "source": [
    "df.groupby(df.index.date).pv_dc_kWh_m2.mean().plot()"
   ]
  },
  {
   "cell_type": "code",
   "execution_count": 4,
   "id": "0959effa",
   "metadata": {},
   "outputs": [
    {
     "data": {
      "text/html": [
       "<div>\n",
       "<style scoped>\n",
       "    .dataframe tbody tr th:only-of-type {\n",
       "        vertical-align: middle;\n",
       "    }\n",
       "\n",
       "    .dataframe tbody tr th {\n",
       "        vertical-align: top;\n",
       "    }\n",
       "\n",
       "    .dataframe thead th {\n",
       "        text-align: right;\n",
       "    }\n",
       "</style>\n",
       "<table border=\"1\" class=\"dataframe\">\n",
       "  <thead>\n",
       "    <tr style=\"text-align: right;\">\n",
       "      <th></th>\n",
       "      <th>price_area</th>\n",
       "      <th>spot_price</th>\n",
       "      <th>pv_dc_kWh_m2</th>\n",
       "      <th>net_tariff</th>\n",
       "      <th>spot_demand_kWh</th>\n",
       "      <th>spot_supply_kWh</th>\n",
       "    </tr>\n",
       "    <tr>\n",
       "      <th>ts</th>\n",
       "      <th></th>\n",
       "      <th></th>\n",
       "      <th></th>\n",
       "      <th></th>\n",
       "      <th></th>\n",
       "      <th></th>\n",
       "    </tr>\n",
       "  </thead>\n",
       "  <tbody>\n",
       "    <tr>\n",
       "      <th>2022-10-17 13:00:00</th>\n",
       "      <td>DK2</td>\n",
       "      <td>874.940002</td>\n",
       "      <td>175.1</td>\n",
       "      <td>0.0</td>\n",
       "      <td>1000</td>\n",
       "      <td>1000</td>\n",
       "    </tr>\n",
       "    <tr>\n",
       "      <th>2022-10-17 14:00:00</th>\n",
       "      <td>DK2</td>\n",
       "      <td>916.820007</td>\n",
       "      <td>153.2</td>\n",
       "      <td>0.0</td>\n",
       "      <td>1000</td>\n",
       "      <td>1000</td>\n",
       "    </tr>\n",
       "    <tr>\n",
       "      <th>2022-10-17 15:00:00</th>\n",
       "      <td>DK2</td>\n",
       "      <td>1036.630005</td>\n",
       "      <td>73.4</td>\n",
       "      <td>0.0</td>\n",
       "      <td>1000</td>\n",
       "      <td>1000</td>\n",
       "    </tr>\n",
       "    <tr>\n",
       "      <th>2022-10-17 16:00:00</th>\n",
       "      <td>DK2</td>\n",
       "      <td>1262.209961</td>\n",
       "      <td>15.9</td>\n",
       "      <td>0.0</td>\n",
       "      <td>1000</td>\n",
       "      <td>1000</td>\n",
       "    </tr>\n",
       "  </tbody>\n",
       "</table>\n",
       "</div>"
      ],
      "text/plain": [
       "                    price_area   spot_price  pv_dc_kWh_m2  net_tariff  \\\n",
       "ts                                                                      \n",
       "2022-10-17 13:00:00        DK2   874.940002         175.1         0.0   \n",
       "2022-10-17 14:00:00        DK2   916.820007         153.2         0.0   \n",
       "2022-10-17 15:00:00        DK2  1036.630005          73.4         0.0   \n",
       "2022-10-17 16:00:00        DK2  1262.209961          15.9         0.0   \n",
       "\n",
       "                     spot_demand_kWh  spot_supply_kWh  \n",
       "ts                                                     \n",
       "2022-10-17 13:00:00             1000             1000  \n",
       "2022-10-17 14:00:00             1000             1000  \n",
       "2022-10-17 15:00:00             1000             1000  \n",
       "2022-10-17 16:00:00             1000             1000  "
      ]
     },
     "execution_count": 4,
     "metadata": {},
     "output_type": "execute_result"
    }
   ],
   "source": [
    "df['2022-10-17 13:00:00': '2022-10-17 16:00:00']"
   ]
  },
  {
   "cell_type": "code",
   "execution_count": 5,
   "id": "252fc699",
   "metadata": {},
   "outputs": [
    {
     "data": {
      "text/plain": [
       "'2022-10-22 19:37:38'"
      ]
     },
     "execution_count": 5,
     "metadata": {},
     "output_type": "execute_result"
    }
   ],
   "source": [
    "datetime.datetime.now().strftime(\"%Y-%m-%d %H:%M:%S\")\n",
    "#datetime.strptime(, format)"
   ]
  },
  {
   "cell_type": "markdown",
   "id": "628510c7",
   "metadata": {},
   "source": [
    "## Configure and optimise"
   ]
  },
  {
   "cell_type": "code",
   "execution_count": 6,
   "id": "b9b9c941",
   "metadata": {},
   "outputs": [],
   "source": [
    "n_panels = widgets.IntSlider(value=100, min=0, max=200, description='Solar panels:', continuous_update=True)\n",
    "n_inverters = widgets.IntSlider(value=3, min=0, max=10, description='Inverters:', continuous_update=True)\n",
    "n_batteries = widgets.IntSlider(value=9, min=0, max=10, description='Batteries:', continuous_update=True)\n",
    "stikledning_amp = widgets.IntSlider(value=63.0, min=0, max=100, description='Ampere:', continuous_update=True)\n",
    "stikledning_volt = widgets.IntSlider(value=400, min=0, max=500, description='Volt:', continuous_update=True)"
   ]
  },
  {
   "cell_type": "code",
   "execution_count": 7,
   "id": "d393a528",
   "metadata": {},
   "outputs": [
    {
     "data": {
      "application/vnd.jupyter.widget-view+json": {
       "model_id": "a9ff8a8ce11b44e39e1d7f82240d6388",
       "version_major": 2,
       "version_minor": 0
      },
      "text/plain": [
       "IntSlider(value=100, description='Solar panels:', max=200)"
      ]
     },
     "metadata": {},
     "output_type": "display_data"
    },
    {
     "data": {
      "application/vnd.jupyter.widget-view+json": {
       "model_id": "5d4e9c34634a4fd582bb506e554ecc0c",
       "version_major": 2,
       "version_minor": 0
      },
      "text/plain": [
       "IntSlider(value=3, description='Inverters:', max=10)"
      ]
     },
     "metadata": {},
     "output_type": "display_data"
    },
    {
     "data": {
      "application/vnd.jupyter.widget-view+json": {
       "model_id": "5fde4cc40e364bc8909d6baca3b5f5e7",
       "version_major": 2,
       "version_minor": 0
      },
      "text/plain": [
       "IntSlider(value=9, description='Batteries:', max=10)"
      ]
     },
     "metadata": {},
     "output_type": "display_data"
    },
    {
     "data": {
      "application/vnd.jupyter.widget-view+json": {
       "model_id": "a990d2c041e84b81997033d13df7047d",
       "version_major": 2,
       "version_minor": 0
      },
      "text/plain": [
       "IntSlider(value=63, description='Ampere:')"
      ]
     },
     "metadata": {},
     "output_type": "display_data"
    },
    {
     "data": {
      "application/vnd.jupyter.widget-view+json": {
       "model_id": "26266c1a8c904b90b486bbab4f77655a",
       "version_major": 2,
       "version_minor": 0
      },
      "text/plain": [
       "IntSlider(value=400, description='Volt:', max=500)"
      ]
     },
     "metadata": {},
     "output_type": "display_data"
    }
   ],
   "source": [
    "display(n_panels)\n",
    "display(n_inverters)\n",
    "display(n_batteries)\n",
    "display(stikledning_amp)\n",
    "display(stikledning_volt)"
   ]
  },
  {
   "cell_type": "markdown",
   "id": "d2a7f7c2",
   "metadata": {},
   "source": [
    "## Configuration"
   ]
  },
  {
   "cell_type": "code",
   "execution_count": 8,
   "id": "3bfd9d12",
   "metadata": {},
   "outputs": [
    {
     "name": "stdout",
     "output_type": "stream",
     "text": [
      "Facility(panel=SolarPanel(m2=0.75, depreciation_per_hour=0.0059), battery=Battery(capacity_kWh=8.8, throughput_kWh=3.3, conversion_loss_pct=0.03, depreciation_per_kWh=0.398), inverter=Inverter(throughput_kWh=15.6, depreciation_per_hour=0.0, conversion_loss_pct=0.03), grid=GridConnection(throughput_kWh=25.2), n_panels=100, n_batteries=9, n_inverters=3)\n"
     ]
    }
   ],
   "source": [
    "# solar panels: 470Wp JinKO TigerNeo N-Type 60HL4 BF, 1.57 kWh / time, costs 1565 DKK\n",
    "panel = SolarPanel(m2=0.75, depreciation_per_hour=0.0059)\n",
    "# DK grid\n",
    "grid = GridConnection(throughput_kWh=stikledning_amp.value * stikledning_volt.value / 1000)\n",
    "# Deye SUN-12K-SG04LP3-EU\n",
    "inverter = Inverter(depreciation_per_hour=0.0, throughput_kWh=15.6, conversion_loss_pct=0.03,)\n",
    "# battery: Powerwall LBATTS Powerwall, 8.8 kwh\n",
    "battery = Battery(depreciation_per_kWh=0.398, throughput_kWh=3.3, capacity_kWh=8.8, conversion_loss_pct=0.03,)\n",
    "facility = Facility(\n",
    "    panel=panel,\n",
    "    grid=grid,\n",
    "    inverter=inverter,\n",
    "    battery=battery,\n",
    "    n_panels=n_panels.value,\n",
    "    n_inverters=n_inverters.value,\n",
    "    n_batteries=n_batteries.value\n",
    ")\n",
    "print(facility)"
   ]
  },
  {
   "cell_type": "code",
   "execution_count": 17,
   "id": "57873e0d",
   "metadata": {},
   "outputs": [],
   "source": [
    "class Simulator:\n",
    "    def __init__(self, facility, df):\n",
    "        self.df = df\n",
    "        self.facility = facility\n",
    "    \n",
    "    def simulate_policy(self, policy, periods, initial_soc=0.0):\n",
    "        soc = initial_soc\n",
    "        for start_ts, end_ts in periods:\n",
    "            period_df = self.df[start_ts:end_ts]\n",
    "            policy_in = create_policy_input(facility=self.facility, df=period_df, initial_soc=soc)\n",
    "            outcome = policy(policy_in)\n",
    "            yield outcome\n",
    "            soc = outcome.battery_soc_kWh[-1]\n",
    "        return outcomes\n",
    "            "
   ]
  },
  {
   "cell_type": "code",
   "execution_count": 55,
   "id": "65d8f504",
   "metadata": {},
   "outputs": [
    {
     "name": "stderr",
     "output_type": "stream",
     "text": [
      "/Users/kostas/.venvs/venv-kitchensink/lib/python3.9/site-packages/cvxpy/problems/problem.py:1337: UserWarning: Solution may be inaccurate. Try another solver, adjusting the solver settings, or solve with verbose=True for more information.\n",
      "  warnings.warn(\n"
     ]
    }
   ],
   "source": [
    "simulator = Simulator(facility, df)\n",
    "t0 = df[df.index.hour == 12].index\n",
    "t1 = t0 + datetime.timedelta(days=1)\n",
    "periods = list(zip(t0, t1))\n",
    "outcomes = list(simulator.simulate_policy(policy=optimal_policy, periods=periods))"
   ]
  },
  {
   "cell_type": "code",
   "execution_count": 88,
   "id": "c488c580",
   "metadata": {},
   "outputs": [
    {
     "data": {
      "text/html": [
       "<div>\n",
       "<style scoped>\n",
       "    .dataframe tbody tr th:only-of-type {\n",
       "        vertical-align: middle;\n",
       "    }\n",
       "\n",
       "    .dataframe tbody tr th {\n",
       "        vertical-align: top;\n",
       "    }\n",
       "\n",
       "    .dataframe thead th {\n",
       "        text-align: right;\n",
       "    }\n",
       "</style>\n",
       "<table border=\"1\" class=\"dataframe\">\n",
       "  <thead>\n",
       "    <tr style=\"text-align: right;\">\n",
       "      <th></th>\n",
       "      <th>start_ts</th>\n",
       "      <th>year_month</th>\n",
       "      <th>dkk</th>\n",
       "      <th>dkk_x1</th>\n",
       "      <th>dkk_x3</th>\n",
       "    </tr>\n",
       "  </thead>\n",
       "  <tbody>\n",
       "    <tr>\n",
       "      <th>0</th>\n",
       "      <td>2021-01-01 12:00:00</td>\n",
       "      <td>2021_1</td>\n",
       "      <td>73.266850</td>\n",
       "      <td>84.032171</td>\n",
       "      <td>3.531113e+01</td>\n",
       "    </tr>\n",
       "    <tr>\n",
       "      <th>1</th>\n",
       "      <td>2021-01-02 12:00:00</td>\n",
       "      <td>2021_1</td>\n",
       "      <td>54.478156</td>\n",
       "      <td>64.029924</td>\n",
       "      <td>3.671876e+01</td>\n",
       "    </tr>\n",
       "    <tr>\n",
       "      <th>2</th>\n",
       "      <td>2021-01-03 12:00:00</td>\n",
       "      <td>2021_1</td>\n",
       "      <td>57.615328</td>\n",
       "      <td>72.365328</td>\n",
       "      <td>2.389446e-10</td>\n",
       "    </tr>\n",
       "    <tr>\n",
       "      <th>3</th>\n",
       "      <td>2021-01-04 12:00:00</td>\n",
       "      <td>2021_1</td>\n",
       "      <td>90.356607</td>\n",
       "      <td>100.354716</td>\n",
       "      <td>3.627335e+01</td>\n",
       "    </tr>\n",
       "    <tr>\n",
       "      <th>4</th>\n",
       "      <td>2021-01-05 12:00:00</td>\n",
       "      <td>2021_1</td>\n",
       "      <td>78.323481</td>\n",
       "      <td>87.520105</td>\n",
       "      <td>3.707402e+01</td>\n",
       "    </tr>\n",
       "    <tr>\n",
       "      <th>...</th>\n",
       "      <td>...</td>\n",
       "      <td>...</td>\n",
       "      <td>...</td>\n",
       "      <td>...</td>\n",
       "      <td>...</td>\n",
       "    </tr>\n",
       "    <tr>\n",
       "      <th>650</th>\n",
       "      <td>2022-10-13 12:00:00</td>\n",
       "      <td>2022_10</td>\n",
       "      <td>852.539892</td>\n",
       "      <td>713.405703</td>\n",
       "      <td>1.854058e+02</td>\n",
       "    </tr>\n",
       "    <tr>\n",
       "      <th>651</th>\n",
       "      <td>2022-10-14 12:00:00</td>\n",
       "      <td>2022_10</td>\n",
       "      <td>573.654142</td>\n",
       "      <td>450.960048</td>\n",
       "      <td>1.689657e+02</td>\n",
       "    </tr>\n",
       "    <tr>\n",
       "      <th>652</th>\n",
       "      <td>2022-10-15 12:00:00</td>\n",
       "      <td>2022_10</td>\n",
       "      <td>229.335748</td>\n",
       "      <td>167.833765</td>\n",
       "      <td>1.207842e+02</td>\n",
       "    </tr>\n",
       "    <tr>\n",
       "      <th>653</th>\n",
       "      <td>2022-10-16 12:00:00</td>\n",
       "      <td>2022_10</td>\n",
       "      <td>238.906646</td>\n",
       "      <td>179.817878</td>\n",
       "      <td>1.053604e+02</td>\n",
       "    </tr>\n",
       "    <tr>\n",
       "      <th>654</th>\n",
       "      <td>2022-10-17 12:00:00</td>\n",
       "      <td>2022_10</td>\n",
       "      <td>236.467574</td>\n",
       "      <td>125.103636</td>\n",
       "      <td>1.499655e+02</td>\n",
       "    </tr>\n",
       "  </tbody>\n",
       "</table>\n",
       "<p>655 rows × 5 columns</p>\n",
       "</div>"
      ],
      "text/plain": [
       "               start_ts year_month         dkk      dkk_x1        dkk_x3\n",
       "0   2021-01-01 12:00:00     2021_1   73.266850   84.032171  3.531113e+01\n",
       "1   2021-01-02 12:00:00     2021_1   54.478156   64.029924  3.671876e+01\n",
       "2   2021-01-03 12:00:00     2021_1   57.615328   72.365328  2.389446e-10\n",
       "3   2021-01-04 12:00:00     2021_1   90.356607  100.354716  3.627335e+01\n",
       "4   2021-01-05 12:00:00     2021_1   78.323481   87.520105  3.707402e+01\n",
       "..                  ...        ...         ...         ...           ...\n",
       "650 2022-10-13 12:00:00    2022_10  852.539892  713.405703  1.854058e+02\n",
       "651 2022-10-14 12:00:00    2022_10  573.654142  450.960048  1.689657e+02\n",
       "652 2022-10-15 12:00:00    2022_10  229.335748  167.833765  1.207842e+02\n",
       "653 2022-10-16 12:00:00    2022_10  238.906646  179.817878  1.053604e+02\n",
       "654 2022-10-17 12:00:00    2022_10  236.467574  125.103636  1.499655e+02\n",
       "\n",
       "[655 rows x 5 columns]"
      ]
     },
     "execution_count": 88,
     "metadata": {},
     "output_type": "execute_result"
    }
   ],
   "source": [
    "df_outcomes = pd.DataFrame({\n",
    "    'start_ts': [ts0 for (ts0, _) in periods],\n",
    "    'year_month': [f'{ts0.year}_{ts0.month}' for (ts0, _) in periods],\n",
    "    'dkk': [o.value for o in outcomes],\n",
    "    'dkk_x1': [o.x1_contrib for o in outcomes],\n",
    "    'dkk_x3': [o.x3_contrib for o in outcomes],\n",
    "    \n",
    "})\n",
    "df_outcomes"
   ]
  },
  {
   "cell_type": "code",
   "execution_count": 92,
   "id": "b83b7c77",
   "metadata": {},
   "outputs": [
    {
     "data": {
      "image/png": "[encoded data removed]",
      "text/plain": [
       "<Figure size 431.125x360 with 1 Axes>"
      ]
     },
     "metadata": {
      "needs_background": "light"
     },
     "output_type": "display_data"
    }
   ],
   "source": [
    "df_plot = (\n",
    "    df_outcomes\n",
    "    .groupby('year_month')\n",
    "    .sum()\n",
    "    .reset_index()\n",
    "    .melt('year_month', var_name='cols', value_name='vals')\n",
    ")\n",
    "sns.catplot(x=\"year_month\", y=\"vals\", hue='cols', data=df_plot, kind='point')\n",
    "plt.xticks(rotation=60)\n",
    "plt.ylabel('DKK/month')\n",
    "plt.show()"
   ]
  },
  {
   "cell_type": "code",
   "execution_count": 94,
   "id": "99cea396",
   "metadata": {},
   "outputs": [
    {
     "data": {
      "image/png": "[encoded data removed]",
      "text/plain": [
       "<Figure size 432x288 with 1 Axes>"
      ]
     },
     "metadata": {
      "needs_background": "light"
     },
     "output_type": "display_data"
    }
   ],
   "source": [
    "df_plot = (\n",
    "    df_outcomes\n",
    "    .drop(columns=['dkk'])\n",
    "    .groupby('year_month')\n",
    "    .sum()\n",
    ")\n",
    "df_plot.plot(kind='bar', stacked=True)\n",
    "plt.xticks(rotation=60)\n",
    "plt.ylabel('DKK/month')\n",
    "plt.show()"
   ]
  }
 ],
 "metadata": {
  "kernelspec": {
   "display_name": "Python 3 (ipykernel)",
   "language": "python",
   "name": "python3"
  },
  "language_info": {
   "codemirror_mode": {
    "name": "ipython",
    "version": 3
   },
   "file_extension": ".py",
   "mimetype": "text/x-python",
   "name": "python",
   "nbconvert_exporter": "python",
   "pygments_lexer": "ipython3",
   "version": "3.9.5"
  }
 },
 "nbformat": 4,
 "nbformat_minor": 5
}
