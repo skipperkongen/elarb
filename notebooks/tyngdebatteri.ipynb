{
 "cells": [
  {
   "cell_type": "markdown",
   "id": "5d96c0d9",
   "metadata": {},
   "source": [
    "# Tyngdekraft batterier\n",
    "\n",
    "Dette er endnu en umoden teknologi. Man kan f.eks. ikke let købe et tyngdebatteri på nettet. Man kan enten vente på at tyngdebatterier bliver kommercielt tilgængelige eller udvikle et selv. Men under alle omstændigheder er dette future work. \n",
    "\n",
    "Projekter i tidlig kommerciel fase:\n",
    "- https://gravitricity.com/"
   ]
  },
  {
   "cell_type": "markdown",
   "id": "beda6776",
   "metadata": {},
   "source": [
    "## Back-of-the-envelope beregning\n",
    "\n",
    "I det følgende vil vi sammenligne opbevaring af energi i henholdsvis vand (tyngdebatteri) og lithiumbatterier.\n",
    "\n",
    "Vi vil besvare spørgsmålene:\n",
    "\n",
    "- Hvor meget potentiel energi er der i en kubikmeter vand der hæves en meter op i luften? \n",
    "- Hvor meget mindre fylder et lithiumbatteri i forhold til vand, hvis vi vil opbevare en tilsvarende mængde energi?\n",
    "\n",
    "1 m³ vand der hæves 1 meter op indeholder 9806.65 J i potentiel energi. Omregnet til kWh svarer det til 0.002724069444 kWh. Til sammenligning har et [Lifepo4 batteri til 33.000 DKK](https://lithiumpro.dk/vare/lithiumpro-lifepo4-24v-240ah-200a-pro-lithium-batteri/) en kapacitet på cirka 12 kWh. \n",
    "\n",
    "For hvert batteri skal man altså hæve mindst 4400 m³ vand hvad der svarer til 1 meter op for at få en tilsvarende kapacitet i kWh.\n",
    "\n",
    "Lithiumbatteriet i eksemplet er ganske lille, men en størrelse på (L x B x H) 370 x 450 x 230 mm, hvilket svarer til 0.038295 m³. Dertil kommer at litium batteriet ikke skal hejses 1 meter op i luften, hvilket også kræver plads. I Lithiumbatteriet har en energitæthed i volumen som er (4400 x 2) / 0.038295 gange højere end vandet, hvilket giver at **batteriet fylder 230,000 gange mindre end vandet**. \n",
    "\n",
    "Batteriet i eksemplet vejer 74 Kg. Hvis vi sammenligner det med de 4400 tons vand, kan vi se at batteriet per vægtenhed kan **batteriet vejer 59,000 mindre end vandet**.\n",
    "\n",
    "TODO: de her tal er så sindsyge at det ikke kan passe. Regn lige efter!!\n",
    "\n",
    "### Game over for vand?\n",
    "\n",
    "Vand har har mange klare fordele over et Lithium-Ion batteri, hvis vi ser bort fra energitætheden.\n",
    "\n",
    "- Vand kan ikke bryde i brand\n",
    "- Vand er en fornybar resource, som falder gratis ned fra himlen\n",
    "- Vand forurener ikke miljøet ved mining og er ikke en brik i geopolitiske spil\n",
    "\n",
    "Uklare fordele:\n",
    "\n",
    "- Selvom selve vandet ikke bliver slidt af at lagre energi, så bliver en mekanisk generator som omdanner potentiel energi til strøm slidt op over tid.\n",
    "\n",
    "Vand har har også klare ulemper:\n",
    "\n",
    "- Vand har en meget lav energitætheden, når det bruges i et tyngdebatteri (Fusionsenergi er en helt anden historie)."
   ]
  },
  {
   "cell_type": "code",
   "execution_count": 2,
   "id": "4de52c37",
   "metadata": {},
   "outputs": [
    {
     "data": {
      "text/plain": [
       "0.038295"
      ]
     },
     "execution_count": 2,
     "metadata": {},
     "output_type": "execute_result"
    }
   ],
   "source": [
    "0.370 * 0.450 * 0.230"
   ]
  },
  {
   "cell_type": "code",
   "execution_count": null,
   "id": "d84fa9be",
   "metadata": {},
   "outputs": [],
   "source": []
  }
 ],
 "metadata": {
  "kernelspec": {
   "display_name": "Python 3 (ipykernel)",
   "language": "python",
   "name": "python3"
  },
  "language_info": {
   "codemirror_mode": {
    "name": "ipython",
    "version": 3
   },
   "file_extension": ".py",
   "mimetype": "text/x-python",
   "name": "python",
   "nbconvert_exporter": "python",
   "pygments_lexer": "ipython3",
   "version": "3.9.5"
  }
 },
 "nbformat": 4,
 "nbformat_minor": 5
}
