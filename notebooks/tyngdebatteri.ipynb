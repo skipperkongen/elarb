{
 "cells": [
  {
   "cell_type": "markdown",
   "id": "5d96c0d9",
   "metadata": {},
   "source": [
    "# Tyngdekraft batterier\n",
    "\n",
    "Dette er endnu en umoden teknologi. Man kan f.eks. ikke let købe et tyngdebatteri på nettet. Man kan enten vente på at tyngdebatterier bliver kommercielt tilgængelige eller udvikle et selv. Men under alle omstændigheder er dette future work. \n",
    "\n",
    "Projekter i tidlig kommerciel fase:\n",
    "- https://gravitricity.com/"
   ]
  },
  {
   "cell_type": "markdown",
   "id": "b7a9029b",
   "metadata": {},
   "source": [
    "## Back-of-the-envelope beregning\n",
    "\n",
    "I det følgende vil vi sammenligne opbevaring af energi i henholdsvis vand (tyngdebatteri) og lithiumbatterier.\n",
    "\n",
    "Vi vil besvare spørgsmålene:\n",
    "\n",
    "- Hvor meget potentiel energi er der i en kubikmeter vand der hæves en meter op i luften? \n",
    "- Hvor meget mindre fylder et lithiumbatteri i forhold til vand, hvis det skal opbevare en tilsvarende mængde energi?\n",
    "\n",
    "Til sammenligning vil vi bruge et [Lithiumbatteri](https://lithiumpro.dk/vare/lithiumpro-lifepo4-24v-240ah-200a-pro-lithium-batteri/), som kan købes for 33.000 DKK. Batteriet har en størrelse på (L x B x H) 370 x 450 x 230 mm, hvilket svarer til 0.038295 m³. Dertil kommer at et batteri ikke skal hejses 1 meter op i luften, hvilket også kræver plads. Batteriet vejer 74 kg.\n"
   ]
  },
  {
   "cell_type": "markdown",
   "id": "95118155",
   "metadata": {},
   "source": [
    "### Potentiel energi i vand\n",
    "\n",
    "1 m³ vand, der hæves 1 meter op i luften, indeholder 9806.65 J i potentiel energi. Til denne beregning kan vi bruge formlen:\n",
    "\n",
    "$$\n",
    "U_g = mgh\n",
    "$$\n",
    "\n",
    "Hvor m er massen i kg, g er tyngde accelerationen (Tyngdeaccelerationen i Danmark er 9.816 m/s²) og h er højden i meter over havet.\n"
   ]
  },
  {
   "cell_type": "code",
   "execution_count": 8,
   "id": "f00194e9",
   "metadata": {},
   "outputs": [
    {
     "name": "stdout",
     "output_type": "stream",
     "text": [
      "9816.0 J\n"
     ]
    }
   ],
   "source": [
    "m = 1000\n",
    "g = 9.816\n",
    "h = 1\n",
    "print(m*g*h, 'J')"
   ]
  },
  {
   "cell_type": "markdown",
   "id": "f36ee114",
   "metadata": {},
   "source": [
    "En enkelt Watt er lig med 1 Joule per sekund. 1 kWh svarer til at forbruge 1000 Watt konstant i en hel time. Så 9816 J svarer til 9816 ws (Watt sekunder), hvilket svarer til 9816 / (60²).  "
   ]
  },
  {
   "cell_type": "code",
   "execution_count": 12,
   "id": "230c8be4",
   "metadata": {},
   "outputs": [
    {
     "name": "stdout",
     "output_type": "stream",
     "text": [
      "Potentiel energi af 1 m³ vand løftet 1 meter = 0.00273 kWh\n"
     ]
    }
   ],
   "source": [
    "import numpy as np\n",
    "joules = 9816\n",
    "sekunder_per_time = 60**2\n",
    "Wh =  joules / sekunder_per_time\n",
    "vand_kWh = Wh / 1000\n",
    "print('Kapacitet af 1 m³ vand løftet 1 meter =', np.round(vand_kWh, 5), 'kWh')"
   ]
  },
  {
   "cell_type": "markdown",
   "id": "9c2c3595",
   "metadata": {},
   "source": [
    "### Sammenligning med lithium-batteri"
   ]
  },
  {
   "cell_type": "markdown",
   "id": "ab7a4cd7",
   "metadata": {},
   "source": [
    "Lithium-batteriet i [eksemplet](https://lithiumpro.dk/vare/lithiumpro-lifepo4-24v-240ah-200a-pro-lithium-batteri/) har en kapacitet på cirka 12 kWh."
   ]
  },
  {
   "cell_type": "code",
   "execution_count": 14,
   "id": "38e0f004",
   "metadata": {},
   "outputs": [
    {
     "name": "stdout",
     "output_type": "stream",
     "text": [
      "Kapacitet af 1 Lifepo4 batteri = 12 kWh\n"
     ]
    }
   ],
   "source": [
    "lifepo4_kWh = 12\n",
    "print('Kapacitet af 1 Lifepo4 batteri =', lifepo4_kWh, 'kWh')"
   ]
  },
  {
   "cell_type": "markdown",
   "id": "466c6214",
   "metadata": {},
   "source": [
    "Batteriet kan altså lagre meget mere energi end 1 m³ vand der hæves 1 meter op i luften. Dertil kommer at vi ikke har medregnet konverteringstab fra potentiel energi til strøm, f.eks. via en mekanisk generator.\n",
    "\n",
    "Med andre ord, kapaciteten af et enkelt batteri svarer til at hæve 4400 m³ vand 1 meter op i luften."
   ]
  },
  {
   "cell_type": "code",
   "execution_count": 23,
   "id": "ce1a7a1b",
   "metadata": {},
   "outputs": [
    {
     "name": "stdout",
     "output_type": "stream",
     "text": [
      "Lithium-batteriet kan lagre 4401.0 gange mere energi end vandet\n"
     ]
    }
   ],
   "source": [
    "energi_faktor = np.round(lifepo4_kWh / vand_kWh)\n",
    "print(f'Lithium-batteriet kan lagre {energi_faktor} gange mere energi end vandet')"
   ]
  },
  {
   "cell_type": "markdown",
   "id": "e25d4ddf",
   "metadata": {},
   "source": [
    "### Energitæthed i volumn\n",
    "\n",
    "Lithiumbatteriet har en rumfylde på 0.038 m³, hvorimod vandet fylder 4400 m³. Vi skal gange vandets volumen med to fordi vandet skal kunne hæves 1 m op, hvilket også tager plads.  "
   ]
  },
  {
   "cell_type": "code",
   "execution_count": 31,
   "id": "759e3fe6",
   "metadata": {},
   "outputs": [
    {
     "name": "stdout",
     "output_type": "stream",
     "text": [
      "Vandet fylder 231579.0 gange mere end lithium-batteriet.\n"
     ]
    }
   ],
   "source": [
    "vand_m3 = 4400*2\n",
    "lifepo4_m3 = 0.038 \n",
    "m3_faktor = vand_m3 / lifepo4_m3\n",
    "print(f'Vandet fylder {np.round(m3_faktor)} gange mere end lithium-batteriet.')"
   ]
  },
  {
   "cell_type": "markdown",
   "id": "c67a4c77",
   "metadata": {},
   "source": [
    "### Energitæthed i vægt\n",
    "\n",
    "Batteriet i eksemplet vejer 74 Kg. Til sammenligning vejer vandet 4400 tons."
   ]
  },
  {
   "cell_type": "code",
   "execution_count": 33,
   "id": "778f0439",
   "metadata": {},
   "outputs": [
    {
     "name": "stdout",
     "output_type": "stream",
     "text": [
      "Vandet vejer 59459.0 gange mere end lithium-batteriet.\n"
     ]
    }
   ],
   "source": [
    "vand_kg = 4400*1000\n",
    "lifepo4_kg = 74\n",
    "kg_faktor = vand_kg / lifepo4_kg\n",
    "print(f'Vandet vejer {np.round(kg_faktor)} gange mere end lithium-batteriet.')"
   ]
  },
  {
   "cell_type": "markdown",
   "id": "beda6776",
   "metadata": {},
   "source": [
    "### Konklusion\n",
    "\n",
    "Vand har har mange klare fordele over et Lithium-Ion batteri, hvis vi ser bort fra energitætheden.\n",
    "\n",
    "- Vand kan ikke bryde i brand\n",
    "- Vand er ikke en fristende tyvekost\n",
    "- Vand er en fornybar resource, som falder gratis ned fra himlen\n",
    "- Vand forurener ikke miljøet ved mining\n",
    "\n",
    "Uklare fordele/ulemper:\n",
    "\n",
    "- Selvom selve vandet ikke bliver slidt af at lagre energi, så bliver en mekanisk generator som omdanner potentiel energi til strøm slidt op over tid.\n",
    "- Lithium kan genbruges, så på en måde bliver det heller ikke slidt.\n",
    "\n",
    "Vand har har også klare ulemper:\n",
    "\n",
    "- Vand har en meget lav energitæthed, både i vægt og volumen, når det bruges i et tyngdebatteri\n",
    "- Tyngdebatterier kan ikke købes på nettet og skal bygges selv"
   ]
  },
  {
   "cell_type": "code",
   "execution_count": null,
   "id": "d84fa9be",
   "metadata": {},
   "outputs": [],
   "source": []
  }
 ],
 "metadata": {
  "kernelspec": {
   "display_name": "Python 3 (ipykernel)",
   "language": "python",
   "name": "python3"
  },
  "language_info": {
   "codemirror_mode": {
    "name": "ipython",
    "version": 3
   },
   "file_extension": ".py",
   "mimetype": "text/x-python",
   "name": "python",
   "nbconvert_exporter": "python",
   "pygments_lexer": "ipython3",
   "version": "3.9.5"
  }
 },
 "nbformat": 4,
 "nbformat_minor": 5
}
