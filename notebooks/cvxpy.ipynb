{
 "cells": [
  {
   "cell_type": "code",
   "execution_count": 48,
   "id": "8be0c983",
   "metadata": {},
   "outputs": [],
   "source": [
    "import datetime\n",
    "\n",
    "import cvxpy as cp\n",
    "import matplotlib.pyplot as plt\n",
    "import numpy as np\n",
    "import pandas as pd\n",
    "\n",
    "from elarb import datasets, util"
   ]
  },
  {
   "cell_type": "markdown",
   "id": "dcf1e1e5",
   "metadata": {},
   "source": [
    "## Load data"
   ]
  },
  {
   "cell_type": "code",
   "execution_count": 59,
   "id": "68d30d07",
   "metadata": {},
   "outputs": [
    {
     "data": {
      "text/plain": [
       "array([0.44604001, 0.37189002, 0.40722   , 0.38260001, 0.98460999,\n",
       "       1.36169995, 1.47892004, 1.92443994, 1.07883997, 0.70509998,\n",
       "       0.68940002, 0.45995001, 0.51596002, 0.40185998, 0.07274   ,\n",
       "       0.06716   , 0.07088   , 0.08412   , 0.95025   , 1.69030005,\n",
       "       1.98036999, 1.61532996, 1.22744995, 1.18163   , 0.99264001,\n",
       "       0.97494   , 0.97560999, 1.03659998, 1.18156006, 1.56623999,\n",
       "       1.84315002, 2.05832007, 1.33432996, 1.17464002, 1.15581995,\n",
       "       0.89945001])"
      ]
     },
     "execution_count": 59,
     "metadata": {},
     "output_type": "execute_result"
    }
   ],
   "source": [
    "#df = datasets.download_nordpool('2022-10-09', '2022-10-11')\n",
    "#df = df[df.HourDK >= '2022-10-09 12:00:00'].reset_index()\n",
    "#df.to_csv('../data/example.csv', index=False)\n",
    "df = pd.read_csv('../data/example.csv')\n",
    "spot_dkk = df.SpotPriceDKK.values / 1000.0\n",
    "spot_dkk"
   ]
  },
  {
   "cell_type": "markdown",
   "id": "d430e59a",
   "metadata": {},
   "source": [
    "## Optimal policy\n",
    "\n",
    "```\n",
    "           ┌───────┐       \n",
    "    ┌─x1──▶│ Grid  │──┐    \n",
    "    │      └───────┘  │    \n",
    "┌───────┐      ▲      │    \n",
    "│ Solar │      │x3    │x4    \n",
    "└───────┘      │      │    \n",
    "    │      ┌───────┐  │    \n",
    "    └─x2──▶│Battery│◀─┘    \n",
    "           └───────┘       \n",
    "```"
   ]
  },
  {
   "cell_type": "markdown",
   "id": "bde45fb5",
   "metadata": {},
   "source": [
    "### Parameters"
   ]
  },
  {
   "cell_type": "code",
   "execution_count": 177,
   "id": "34a12c8d",
   "metadata": {},
   "outputs": [],
   "source": [
    "n = len(spot_dkk)\n",
    "\n",
    "# 1 inverter: Deye SUN-12K-SG04LP3-EU\n",
    "# ... ignored\n",
    "\n",
    "# grid\n",
    "standard_outlet_kWh = 12.8\n",
    "d_grid = cp.Parameter(n, nonneg=True)\n",
    "d_grid.value = np.zeros(n) + standard_outlet_kWh\n",
    "s_grid = cp.Parameter(n, nonneg=True)\n",
    "s_grid.value = np.zeros(n) + standard_outlet_kWh\n",
    "\n",
    "# 1 battery: Powerwall LBATTS Powerwall, 8.8 kwh\n",
    "bat_cap = 26.4\n",
    "bat_discharge = 11.52\n",
    "bat_depreciation = 0.3\n",
    "bat_loss = 0.03\n",
    "bat_SoC = ... # defined later\n",
    "\n",
    "# 33 solar panels: 470Wp JinKO TigerNeo N-Type 60HL4 BF, 1.57 kWh / time\n",
    "solar_kWh = 1.57\n",
    "solar_depreciation = 0.16\n",
    "s_solar = cp.Parameter(n, nonneg=True)\n",
    "s_solar.value = np.zeros(n) + solar_kWh\n",
    "\n",
    "# prices\n",
    "p_x1 = cp.Parameter(n)\n",
    "p_x1.value = np.zeros(n) + spot_dkk - solar_depreciation \n",
    "\n",
    "p_x2 = cp.Parameter(n)\n",
    "p_x2.value = np.zeros(n) - solar_depreciation # - bat_depreciation\n",
    "\n",
    "p_x3 = cp.Parameter(n)\n",
    "p_x3.value = np.zeros(n) + spot_dkk - bat_depreciation\n",
    "\n",
    "p_x4 = cp.Parameter(n)\n",
    "p_x4.value = np.zeros(n) - spot_dkk - bat_depreciation"
   ]
  },
  {
   "cell_type": "markdown",
   "id": "15a7ca9c",
   "metadata": {},
   "source": [
    "### Variables"
   ]
  },
  {
   "cell_type": "code",
   "execution_count": 178,
   "id": "26f55105",
   "metadata": {},
   "outputs": [],
   "source": [
    "x1 = cp.Variable(n, nonneg=True)\n",
    "x2 = cp.Variable(n, nonneg=True)\n",
    "x3 = cp.Variable(n, nonneg=True)\n",
    "x4 = cp.Variable(n, nonneg=True)"
   ]
  },
  {
   "cell_type": "markdown",
   "id": "b3eda6c3",
   "metadata": {},
   "source": [
    "### Objective function"
   ]
  },
  {
   "cell_type": "code",
   "execution_count": 179,
   "id": "5933d22f",
   "metadata": {},
   "outputs": [],
   "source": [
    "contrib_x1 = p_x1@x1\n",
    "contrib_x2 = p_x2@x2\n",
    "contrib_x3 = p_x3@x3\n",
    "contrib_x4 = p_x4@x4\n",
    "objective = cp.Maximize(cp.sum(contrib_x1 + contrib_x2 + contrib_x3 + contrib_x4))"
   ]
  },
  {
   "cell_type": "markdown",
   "id": "e592fa56",
   "metadata": {},
   "source": [
    "### Constraints\n",
    "\n",
    "```\n",
    "           ┌───────┐       \n",
    "    ┌─x1──▶│ Grid  │──┐    \n",
    "    │      └───────┘  │    \n",
    "┌───────┐      ▲      │    \n",
    "│ Solar │      │x3    │x4    \n",
    "└───────┘      │      │    \n",
    "    │      ┌───────┐  │    \n",
    "    └─x2──▶│Battery│◀─┘    \n",
    "           └───────┘       \n",
    "```"
   ]
  },
  {
   "cell_type": "code",
   "execution_count": 180,
   "id": "e568c321",
   "metadata": {},
   "outputs": [],
   "source": [
    "# TODO: plug in battery loss somewhere... in bat_SoC\n",
    "charge_loss = 0.97\n",
    "bat_soc = cp.cumsum(x2*charge_loss + x4*charge_loss - x3)\n",
    "d_bat = bat_cap - bat_soc\n",
    "\n",
    "constraints = [\n",
    "    # sales to grid cannot exceed demand of grid\n",
    "    x1 + x3 <= d_grid,  \n",
    "    # sales to bat cannot exceed demand (i.e. gap to full) of battery\n",
    "    x2 + x4 <= d_bat, \n",
    "    # buys from solar cannot exceed supply of solar\n",
    "    x1 + x2 <= s_solar,\n",
    "    # sells from battery cannot exceed maximum discharge\n",
    "    x3 <= bat_discharge,\n",
    "    # sells from battery cannot exceed state of charge (SoC)  \n",
    "    x3 <= bat_soc,\n",
    "    # buys from grid cannot exceed supply of grid\n",
    "    x4 <= s_grid,\n",
    "    # SoC cannot exceed battery capacity, i.e. the max over cumulative sum of battery flow cannot exceed capacity \n",
    "    cp.max(bat_soc) <= bat_cap\n",
    "]"
   ]
  },
  {
   "cell_type": "markdown",
   "id": "c12bc3be",
   "metadata": {},
   "source": [
    "### Solve problem"
   ]
  },
  {
   "cell_type": "code",
   "execution_count": 181,
   "id": "06b023f6",
   "metadata": {},
   "outputs": [
    {
     "name": "stdout",
     "output_type": "stream",
     "text": [
      "Solar only = 46.44 DKK\n",
      "Solar + arbitrage = 92.84 DKK\n",
      "- Solar to grid (x1) = 33.09 DKK\n",
      "- Solar to battery (x2) = -4.36 DKK\n",
      "- Battery to grid (x3) = 92.77 DKK\n",
      "- Grid to battery (x4) = -28.65 DKK\n",
      "- Check:  92.85\n",
      "\n",
      "Solar to grid: [0.    0.    0.    0.    0.    1.57  1.57  1.57  1.57  1.57  1.57  1.57\n",
      " 1.57  0.    0.    0.    0.    0.    0.845 1.57  1.57  1.57  0.    0.\n",
      " 0.    0.    0.    0.    0.    1.57  1.57  1.57  1.57  1.57  1.57  1.57 ] maximum: 1.57\n",
      "Solar to battery: [1.57  1.57  1.57  1.57  1.57  0.    0.    0.    0.    0.    0.    0.\n",
      " 0.    1.57  1.57  1.57  1.57  1.429 0.725 0.    0.    0.    1.57  1.57\n",
      " 1.57  1.57  1.57  1.57  1.57  0.    0.    0.    0.    0.    0.    0.   ] maximum: 1.57\n",
      "Battery to grid: [ 0.     0.     0.     0.     0.     0.    11.23   6.72   3.36   0.\n",
      "  0.     0.     0.     0.     0.     0.     0.     0.     0.     3.215\n",
      " 11.23   5.615  0.     0.     0.     0.     0.     0.     0.     0.\n",
      " 11.23   6.8    3.4    1.7    0.85   0.425] maximum: 11.23\n",
      "Grid to battery: [ 0.    11.058  4.84   1.684  0.     0.     0.     0.     0.     0.\n",
      "  0.     0.     0.     0.     9.353  3.974  1.244  0.     0.     0.\n",
      "  0.     0.     0.     0.     0.     6.662  2.158  0.     0.     0.\n",
      "  0.     0.     0.     0.     0.     0.   ] maximum: 11.058\n",
      "\n",
      "\n"
     ]
    }
   ],
   "source": [
    "prob = cp.Problem(objective, constraints)\n",
    "result = prob.solve()\n",
    "result_solaronly = np.round(cp.sum(s_solar@p_x1).value, 2)\n",
    "result_solar_and_arb = np.round(result, 2)\n",
    "\n",
    "x1_component = cp.sum(x1@p_x1).value.round(2)\n",
    "x2_component = cp.sum(x2@p_x2).value.round(2)\n",
    "x3_component = cp.sum(x3@p_x3).value.round(2)\n",
    "x4_component = cp.sum(x4@p_x4).value.round(2)\n",
    "\n",
    "print('Solar only =', result_solaronly, 'DKK')\n",
    "print('Solar + arbitrage =', result_solar_and_arb, 'DKK')\n",
    "print('- Solar to grid (x1) =', x1_component, 'DKK')\n",
    "print('- Solar to battery (x2) =', x2_component, 'DKK')\n",
    "print('- Battery to grid (x3) =', x3_component, 'DKK')\n",
    "print('- Grid to battery (x4) =', x4_component, 'DKK')\n",
    "print('- Check: ', x1_component + x2_component + x3_component + x4_component)\n",
    "print()\n",
    "print('Solar to grid:', x1.value.round(3), 'maximum:', max(x1.value.round(3)))\n",
    "print('Solar to battery:', x2.value.round(3), 'maximum:', max(x2.value.round(3)))\n",
    "print('Battery to grid:', x3.value.round(3), 'maximum:', max(x3.value.round(3)))\n",
    "print('Grid to battery:', x4.value.round(3), 'maximum:', max(x4.value.round(3)))\n",
    "\n",
    "print()\n",
    "print()"
   ]
  },
  {
   "cell_type": "code",
   "execution_count": 88,
   "id": "09cd5117",
   "metadata": {},
   "outputs": [],
   "source": [
    "#print(result)\n",
    "# The optimal value for x is stored in `x.value`.\n",
    "#print(x.value.round(2))\n",
    "\n",
    "# The optimal Lagrange multiplier for a constraint is stored in\n",
    "# `constraint.dual_value`.\n",
    "#print(np.round(constraints[0].dual_value, 2))\n",
    "\n",
    "\n",
    "#plt.bar(c, x.value)\n",
    "#plt.show()"
   ]
  },
  {
   "cell_type": "code",
   "execution_count": 36,
   "id": "1e50f056",
   "metadata": {},
   "outputs": [
    {
     "data": {
      "text/plain": [
       "array([ 0.,  1.,  3.,  6., 10., 15., 21.])"
      ]
     },
     "execution_count": 36,
     "metadata": {},
     "output_type": "execute_result"
    }
   ],
   "source": [
    "cp.cumsum(c).value"
   ]
  },
  {
   "cell_type": "code",
   "execution_count": 34,
   "id": "80a71e19",
   "metadata": {},
   "outputs": [
    {
     "data": {
      "text/plain": [
       "array(21.)"
      ]
     },
     "execution_count": 34,
     "metadata": {},
     "output_type": "execute_result"
    }
   ],
   "source": [
    "cp.max(cp.cumsum(c)).value"
   ]
  },
  {
   "cell_type": "code",
   "execution_count": null,
   "id": "3cae533f",
   "metadata": {},
   "outputs": [],
   "source": []
  }
 ],
 "metadata": {
  "kernelspec": {
   "display_name": "Python 3 (ipykernel)",
   "language": "python",
   "name": "python3"
  },
  "language_info": {
   "codemirror_mode": {
    "name": "ipython",
    "version": 3
   },
   "file_extension": ".py",
   "mimetype": "text/x-python",
   "name": "python",
   "nbconvert_exporter": "python",
   "pygments_lexer": "ipython3",
   "version": "3.9.5"
  }
 },
 "nbformat": 4,
 "nbformat_minor": 5
}
