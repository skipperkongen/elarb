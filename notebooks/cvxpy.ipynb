{
 "cells": [
  {
   "cell_type": "code",
   "execution_count": 48,
   "id": "d3974795",
   "metadata": {},
   "outputs": [],
   "source": [
    "import datetime\n",
    "\n",
    "import cvxpy as cp\n",
    "import matplotlib.pyplot as plt\n",
    "import numpy as np\n",
    "import pandas as pd\n",
    "\n",
    "from elarb import datasets, util"
   ]
  },
  {
   "cell_type": "markdown",
   "id": "5a02d981",
   "metadata": {},
   "source": [
    "## Load data"
   ]
  },
  {
   "cell_type": "code",
   "execution_count": 59,
   "id": "feb6bb20",
   "metadata": {},
   "outputs": [
    {
     "data": {
      "text/plain": [
       "array([0.44604001, 0.37189002, 0.40722   , 0.38260001, 0.98460999,\n",
       "       1.36169995, 1.47892004, 1.92443994, 1.07883997, 0.70509998,\n",
       "       0.68940002, 0.45995001, 0.51596002, 0.40185998, 0.07274   ,\n",
       "       0.06716   , 0.07088   , 0.08412   , 0.95025   , 1.69030005,\n",
       "       1.98036999, 1.61532996, 1.22744995, 1.18163   , 0.99264001,\n",
       "       0.97494   , 0.97560999, 1.03659998, 1.18156006, 1.56623999,\n",
       "       1.84315002, 2.05832007, 1.33432996, 1.17464002, 1.15581995,\n",
       "       0.89945001])"
      ]
     },
     "execution_count": 59,
     "metadata": {},
     "output_type": "execute_result"
    }
   ],
   "source": [
    "#df = datasets.download_nordpool('2022-10-09', '2022-10-11')\n",
    "#df = df[df.HourDK >= '2022-10-09 12:00:00'].reset_index()\n",
    "#df.to_csv('../data/example.csv', index=False)\n",
    "df = pd.read_csv('../data/example.csv')\n",
    "spot_dkk = df.SpotPriceDKK.values / 1000.0\n",
    "spot_dkk"
   ]
  },
  {
   "cell_type": "markdown",
   "id": "cc354baa",
   "metadata": {},
   "source": [
    "## Optimal policy\n",
    "\n",
    "```\n",
    "           ┌───────┐       \n",
    "    ┌─x1──▶│ Grid  │──┐    \n",
    "    │      └───────┘  │    \n",
    "┌───────┐      ▲      │    \n",
    "│ Solar │      │x3    │x4    \n",
    "└───────┘      │      │    \n",
    "    │      ┌───────┐  │    \n",
    "    └─x2──▶│Battery│◀─┘    \n",
    "           └───────┘       \n",
    "```"
   ]
  },
  {
   "cell_type": "markdown",
   "id": "5ca1b30d",
   "metadata": {},
   "source": [
    "### Parameters"
   ]
  },
  {
   "cell_type": "code",
   "execution_count": 92,
   "id": "ec3151e0",
   "metadata": {},
   "outputs": [],
   "source": [
    "n = len(spot_dkk)\n",
    "BIG_NUMBER = 100\n",
    "\n",
    "# 1 inverter: Deye SUN-12K-SG04LP3-EU\n",
    "\n",
    "# grid\n",
    "p_grid = cp.Parameter(n, nonneg=True)\n",
    "p_grid.value = spot_dkk\n",
    "d_grid = cp.Parameter(n, nonneg=True)\n",
    "d_grid.value = np.zeros(n) + BIG_NUMBER\n",
    "\n",
    "# 1 battery: Powerwall LBATTS Powerwall, 8.8 kwh\n",
    "bat_cap = 8.8\n",
    "bat_discharge = 11.52\n",
    "bat_loss = 0.03\n",
    "\n",
    "p_bat = cp.Parameter(n, nonneg=True)\n",
    "p_bat.value = np.zeros(n)\n",
    "\n",
    "# 33 solar panels: 470Wp JinKO TigerNeo N-Type 60HL4 BF, 1.57 kWh / time\n",
    "solar_kWh = 1.57\n",
    "\n",
    "p_solar = cp.Parameter(n, nonneg=True)\n",
    "p_solar.value = np.zeros(n) + 0.16\n",
    "s_solar = cp.Parameter(n, nonneg=True)\n",
    "s_solar.value = np.zeros(n) + solar_kWh"
   ]
  },
  {
   "cell_type": "markdown",
   "id": "79023c74",
   "metadata": {},
   "source": [
    "### Variables"
   ]
  },
  {
   "cell_type": "code",
   "execution_count": 74,
   "id": "43e27824",
   "metadata": {},
   "outputs": [],
   "source": [
    "x1 = cp.Variable(n, nonneg=True)\n",
    "x2 = cp.Variable(n, nonneg=True)\n",
    "x3 = cp.Variable(n, nonneg=True)\n",
    "x4 = cp.Variable(n, nonneg=True)"
   ]
  },
  {
   "cell_type": "markdown",
   "id": "e2e5c3fa",
   "metadata": {},
   "source": [
    "### Objective function"
   ]
  },
  {
   "cell_type": "code",
   "execution_count": 79,
   "id": "39c64163",
   "metadata": {},
   "outputs": [],
   "source": [
    "contrib_x1 = p_grid@x1 + p_grid - p_solar@x1\n",
    "contrib_x2 = p_bat@x2 - p_solar@x2\n",
    "contrib_x3 = (1-)p_grid@x3 - p_bat@x3\n",
    "contrib_x4 = p_bat@x4 - p_grid@x4\n",
    "objective = cp.Maximize(cp.sum(contrib_x1 + contrib_x2 + contrib_x3 + contrib_x4))"
   ]
  },
  {
   "cell_type": "markdown",
   "id": "11699508",
   "metadata": {},
   "source": [
    "### Constraints"
   ]
  },
  {
   "cell_type": "code",
   "execution_count": 78,
   "id": "1a3778bf",
   "metadata": {},
   "outputs": [],
   "source": [
    "constraints = [\n",
    "    x1 + x3 <= d_grid,\n",
    "#    x2 + x4 <= d_bat,\n",
    "    x1 + x2 <= s_solar,\n",
    "#    x3 <= s_bat,\n",
    "    x4 <= s_grid,\n",
    "    \n",
    "    \n",
    "]\n",
    "constraints\n",
    "constraint2 = \n",
    "constraint3 = x3 <= 42\n",
    "constraint4 = x4 <= 42\n",
    "constraints = [constraint1, constraint2, constraint3, constraint4]"
   ]
  },
  {
   "cell_type": "markdown",
   "id": "d678acd7",
   "metadata": {},
   "source": [
    "### Solve problem"
   ]
  },
  {
   "cell_type": "code",
   "execution_count": 87,
   "id": "20f4e679",
   "metadata": {},
   "outputs": [
    {
     "data": {
      "text/plain": [
       "(98722.40227484348, 55.48703411051)"
      ]
     },
     "execution_count": 87,
     "metadata": {},
     "output_type": "execute_result"
    }
   ],
   "source": [
    "prob = cp.Problem(objective, constraints)\n",
    "result_arbitrage = prob.solve()\n",
    "result_solaronly = s_solar@p_grid\n",
    "\n",
    "result_arbitrage, result_solaronly.value"
   ]
  },
  {
   "cell_type": "code",
   "execution_count": 88,
   "id": "88337bd4",
   "metadata": {},
   "outputs": [],
   "source": [
    "#print(result)\n",
    "# The optimal value for x is stored in `x.value`.\n",
    "#print(x.value.round(2))\n",
    "\n",
    "# The optimal Lagrange multiplier for a constraint is stored in\n",
    "# `constraint.dual_value`.\n",
    "#print(np.round(constraints[0].dual_value, 2))\n",
    "\n",
    "\n",
    "#plt.bar(c, x.value)\n",
    "#plt.show()"
   ]
  },
  {
   "cell_type": "code",
   "execution_count": 36,
   "id": "fa6bdbd2",
   "metadata": {},
   "outputs": [
    {
     "data": {
      "text/plain": [
       "array([ 0.,  1.,  3.,  6., 10., 15., 21.])"
      ]
     },
     "execution_count": 36,
     "metadata": {},
     "output_type": "execute_result"
    }
   ],
   "source": [
    "cp.cumsum(c).value"
   ]
  },
  {
   "cell_type": "code",
   "execution_count": 34,
   "id": "86c0b8ab",
   "metadata": {},
   "outputs": [
    {
     "data": {
      "text/plain": [
       "array(21.)"
      ]
     },
     "execution_count": 34,
     "metadata": {},
     "output_type": "execute_result"
    }
   ],
   "source": [
    "cp.max(cp.cumsum(c)).value"
   ]
  },
  {
   "cell_type": "code",
   "execution_count": null,
   "id": "ca86b521",
   "metadata": {},
   "outputs": [],
   "source": []
  }
 ],
 "metadata": {
  "kernelspec": {
   "display_name": "Python 3 (ipykernel)",
   "language": "python",
   "name": "python3"
  },
  "language_info": {
   "codemirror_mode": {
    "name": "ipython",
    "version": 3
   },
   "file_extension": ".py",
   "mimetype": "text/x-python",
   "name": "python",
   "nbconvert_exporter": "python",
   "pygments_lexer": "ipython3",
   "version": "3.9.5"
  }
 },
 "nbformat": 4,
 "nbformat_minor": 5
}
