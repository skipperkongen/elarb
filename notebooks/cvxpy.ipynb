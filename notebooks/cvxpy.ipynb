{
 "cells": [
  {
   "cell_type": "code",
   "execution_count": 1,
   "id": "8be0c983",
   "metadata": {},
   "outputs": [],
   "source": [
    "import datetime\n",
    "\n",
    "import cvxpy as cp\n",
    "import matplotlib.pyplot as plt\n",
    "import numpy as np\n",
    "import pandas as pd\n",
    "import seaborn as sns\n",
    "\n",
    "from elarb import datasets, util"
   ]
  },
  {
   "cell_type": "code",
   "execution_count": 2,
   "id": "469d82a9",
   "metadata": {},
   "outputs": [],
   "source": [
    "N_SOLAR = 100\n",
    "N_INVERTERS = 3\n",
    "N_BATTERY = 9\n",
    "#STIKLEDNING_KWH = 12.8\n",
    "STIKLEDNING_A = 63\n",
    "STIKLEDNING_V = 400\n",
    "STIKLEDNING_KWH = STIKLEDNING_A*STIKLEDNING_V / 1000\n"
   ]
  },
  {
   "cell_type": "code",
   "execution_count": 12,
   "id": "a3939ed2",
   "metadata": {},
   "outputs": [
    {
     "data": {
      "text/plain": [
       "25.2"
      ]
     },
     "execution_count": 12,
     "metadata": {},
     "output_type": "execute_result"
    }
   ],
   "source": [
    "STIKLEDNING_KWH"
   ]
  },
  {
   "cell_type": "markdown",
   "id": "dcf1e1e5",
   "metadata": {},
   "source": [
    "## Load data"
   ]
  },
  {
   "cell_type": "markdown",
   "id": "a3a14594",
   "metadata": {},
   "source": [
    "### Nordpool"
   ]
  },
  {
   "cell_type": "code",
   "execution_count": 3,
   "id": "68d30d07",
   "metadata": {},
   "outputs": [
    {
     "data": {
      "text/html": [
       "<div>\n",
       "<style scoped>\n",
       "    .dataframe tbody tr th:only-of-type {\n",
       "        vertical-align: middle;\n",
       "    }\n",
       "\n",
       "    .dataframe tbody tr th {\n",
       "        vertical-align: top;\n",
       "    }\n",
       "\n",
       "    .dataframe thead th {\n",
       "        text-align: right;\n",
       "    }\n",
       "</style>\n",
       "<table border=\"1\" class=\"dataframe\">\n",
       "  <thead>\n",
       "    <tr style=\"text-align: right;\">\n",
       "      <th></th>\n",
       "      <th>index</th>\n",
       "      <th>HourUTC</th>\n",
       "      <th>HourDK</th>\n",
       "      <th>PriceArea</th>\n",
       "      <th>SpotPriceDKK</th>\n",
       "      <th>SpotPriceEUR</th>\n",
       "      <th>dt</th>\n",
       "      <th>h</th>\n",
       "    </tr>\n",
       "  </thead>\n",
       "  <tbody>\n",
       "    <tr>\n",
       "      <th>0</th>\n",
       "      <td>12</td>\n",
       "      <td>2022-10-09 10:00:00</td>\n",
       "      <td>2022-10-09 12:00:00</td>\n",
       "      <td>DK2</td>\n",
       "      <td>446.040009</td>\n",
       "      <td>59.970001</td>\n",
       "      <td>2022-10-09</td>\n",
       "      <td>12</td>\n",
       "    </tr>\n",
       "    <tr>\n",
       "      <th>1</th>\n",
       "      <td>13</td>\n",
       "      <td>2022-10-09 11:00:00</td>\n",
       "      <td>2022-10-09 13:00:00</td>\n",
       "      <td>DK2</td>\n",
       "      <td>371.890015</td>\n",
       "      <td>50.000000</td>\n",
       "      <td>2022-10-09</td>\n",
       "      <td>13</td>\n",
       "    </tr>\n",
       "    <tr>\n",
       "      <th>2</th>\n",
       "      <td>14</td>\n",
       "      <td>2022-10-09 12:00:00</td>\n",
       "      <td>2022-10-09 14:00:00</td>\n",
       "      <td>DK2</td>\n",
       "      <td>407.220001</td>\n",
       "      <td>54.750000</td>\n",
       "      <td>2022-10-09</td>\n",
       "      <td>14</td>\n",
       "    </tr>\n",
       "  </tbody>\n",
       "</table>\n",
       "</div>"
      ],
      "text/plain": [
       "   index             HourUTC              HourDK PriceArea  SpotPriceDKK  \\\n",
       "0     12 2022-10-09 10:00:00 2022-10-09 12:00:00       DK2    446.040009   \n",
       "1     13 2022-10-09 11:00:00 2022-10-09 13:00:00       DK2    371.890015   \n",
       "2     14 2022-10-09 12:00:00 2022-10-09 14:00:00       DK2    407.220001   \n",
       "\n",
       "   SpotPriceEUR         dt   h  \n",
       "0     59.970001 2022-10-09  12  \n",
       "1     50.000000 2022-10-09  13  \n",
       "2     54.750000 2022-10-09  14  "
      ]
     },
     "execution_count": 3,
     "metadata": {},
     "output_type": "execute_result"
    }
   ],
   "source": [
    "#df = datasets.download_nordpool('2022-10-09', '2022-10-11')\n",
    "#df = df[df.HourDK >= '2022-10-09 12:00:00'].reset_index()\n",
    "#df.to_csv('../data/example.csv', index=False)\n",
    "df = pd.read_csv('../data/example.csv', parse_dates=['HourUTC', 'HourDK', 'dt'])\n",
    "spot_dkk = df.SpotPriceDKK.values / 1000.0\n",
    "df.head(3)"
   ]
  },
  {
   "cell_type": "code",
   "execution_count": 4,
   "id": "92294836",
   "metadata": {},
   "outputs": [
    {
     "name": "stdout",
     "output_type": "stream",
     "text": [
      "2022-10-09 12:00:00 2022-10-10 23:00:00\n"
     ]
    }
   ],
   "source": [
    "ts0 = df.HourDK.min()\n",
    "ts1 = df.HourDK.max()\n",
    "print(ts0, ts1)"
   ]
  },
  {
   "cell_type": "markdown",
   "id": "3a6f7d9d",
   "metadata": {},
   "source": [
    "### PV Watts"
   ]
  },
  {
   "cell_type": "code",
   "execution_count": 5,
   "id": "202f955f",
   "metadata": {},
   "outputs": [
    {
     "data": {
      "image/png": "[encoded data removed]",
      "text/plain": [
       "<Figure size 432x288 with 1 Axes>"
      ]
     },
     "metadata": {
      "needs_background": "light"
     },
     "output_type": "display_data"
    }
   ],
   "source": [
    "df_pv = pd.read_csv('../data/pvwatts.csv')\n",
    "\n",
    "idx0 = df_pv[(df_pv.Month == ts0.month) & (df_pv.Day == ts0.day) & (df_pv.Hour == ts0.hour)].index[0]\n",
    "idx1 = df_pv[(df_pv.Month == ts1.month) & (df_pv.Day == ts1.day) & (df_pv.Hour == ts1.hour)].index[0]+1\n",
    "df_pv_win = df_pv[idx0:idx1].reset_index().copy()\n",
    "sns.barplot(x=df_pv_win.index, y=df_pv_win['AC System Output (W)'])\n",
    "plt.xticks(rotation=45)\n",
    "plt.show()"
   ]
  },
  {
   "cell_type": "markdown",
   "id": "d430e59a",
   "metadata": {},
   "source": [
    "## Optimal policy\n",
    "\n",
    "```\n",
    "           ┌───────┐       \n",
    "    ┌─x1──▶│ Grid  │──┐    \n",
    "    │      └───────┘  │    \n",
    "┌───────┐      ▲      │    \n",
    "│ Solar │      │x3    │x4    \n",
    "└───────┘      │      │    \n",
    "    │      ┌───────┐  │    \n",
    "    └─x2──▶│Battery│◀─┘    \n",
    "           └───────┘       \n",
    "```"
   ]
  },
  {
   "cell_type": "markdown",
   "id": "bde45fb5",
   "metadata": {},
   "source": [
    "### Parameters"
   ]
  },
  {
   "cell_type": "code",
   "execution_count": 13,
   "id": "34a12c8d",
   "metadata": {},
   "outputs": [],
   "source": [
    "n = len(spot_dkk)\n",
    "\n",
    "# 1 inverter: Deye SUN-12K-SG04LP3-EU\n",
    "inverter_cap_single = 12\n",
    "inverter_cap = N_INVERTERS * inverter_cap_single\n",
    "\n",
    "# grid\n",
    "d_grid = cp.Parameter(n, nonneg=True)\n",
    "d_grid.value = np.zeros(n) + STIKLEDNING_KWH\n",
    "s_grid = cp.Parameter(n, nonneg=True)\n",
    "s_grid.value = np.zeros(n) + STIKLEDNING_KWH\n",
    "\n",
    "# battery: Powerwall LBATTS Powerwall, 8.8 kwh\n",
    "bat_cap_single = 8.8\n",
    "bat_cap = N_BATTERY * bat_cap_single\n",
    "bat_discharge = N_BATTERY * 11.52\n",
    "bat_cost_dkk = 21000\n",
    "bat_cycles = 6000\n",
    "bat_depreciation = bat_cost_dkk / (bat_cap_single*bat_cycles)\n",
    "bat_loss = 0.03\n",
    "bat_SoC = ... # defined later\n",
    "\n",
    "# solar panels: 470Wp JinKO TigerNeo N-Type 60HL4 BF, 1.57 kWh / time\n",
    "solar_panelcost = 1565\n",
    "solar_years = 30\n",
    "solar_depreciation = solar_panelcost / (24*365*solar_years)\n",
    "s_solar = N_SOLAR * df_pv_win['AC System Output (W)'].values * 60 * 60 / 1000\n",
    "\n",
    "# prices\n",
    "p_x1 = cp.Parameter(n)\n",
    "p_x1.value = np.zeros(n) + spot_dkk - solar_depreciation \n",
    "\n",
    "p_x2 = cp.Parameter(n)\n",
    "p_x2.value = np.zeros(n) - solar_depreciation # - bat_depreciation\n",
    "\n",
    "p_x3 = cp.Parameter(n)\n",
    "p_x3.value = np.zeros(n) + spot_dkk - bat_depreciation\n",
    "\n",
    "p_x4 = cp.Parameter(n)\n",
    "p_x4.value = np.zeros(n) - spot_dkk # - bat_depreciation"
   ]
  },
  {
   "cell_type": "code",
   "execution_count": 16,
   "id": "44390ff5",
   "metadata": {},
   "outputs": [
    {
     "data": {
      "text/plain": [
       "array([198900., 164412., 126180.,  62208.,  13608.,      0.,      0.,\n",
       "            0.,      0.,      0.,      0.,      0.,      0.,      0.,\n",
       "            0.,      0.,      0.,      0.,      0.,   7416.,  20880.,\n",
       "        23220.,  30924.,  35136.,  34740.,  29844.,  21492.,  11376.,\n",
       "         1980.,      0.,      0.,      0.,      0.,      0.,      0.,\n",
       "            0.])"
      ]
     },
     "execution_count": 16,
     "metadata": {},
     "output_type": "execute_result"
    }
   ],
   "source": [
    "s_solar"
   ]
  },
  {
   "cell_type": "code",
   "execution_count": 7,
   "id": "e6cab801",
   "metadata": {},
   "outputs": [
    {
     "data": {
      "text/plain": [
       "0.39772727272727265"
      ]
     },
     "execution_count": 7,
     "metadata": {},
     "output_type": "execute_result"
    }
   ],
   "source": [
    "bat_depreciation"
   ]
  },
  {
   "cell_type": "markdown",
   "id": "15a7ca9c",
   "metadata": {},
   "source": [
    "### Variables"
   ]
  },
  {
   "cell_type": "code",
   "execution_count": 8,
   "id": "26f55105",
   "metadata": {},
   "outputs": [],
   "source": [
    "x1 = cp.Variable(n, nonneg=True)\n",
    "x2 = cp.Variable(n, nonneg=True)\n",
    "x3 = cp.Variable(n, nonneg=True)\n",
    "x4 = cp.Variable(n, nonneg=True)"
   ]
  },
  {
   "cell_type": "markdown",
   "id": "b3eda6c3",
   "metadata": {},
   "source": [
    "### Objective function"
   ]
  },
  {
   "cell_type": "code",
   "execution_count": 9,
   "id": "5933d22f",
   "metadata": {},
   "outputs": [],
   "source": [
    "contrib_x1 = p_x1@x1\n",
    "contrib_x2 = p_x2@x2\n",
    "contrib_x3 = p_x3@x3\n",
    "contrib_x4 = p_x4@x4\n",
    "objective = cp.Maximize(cp.sum(contrib_x1 + contrib_x2 + contrib_x3 + contrib_x4))"
   ]
  },
  {
   "cell_type": "markdown",
   "id": "e592fa56",
   "metadata": {},
   "source": [
    "### Constraints\n",
    "\n",
    "```\n",
    "           ┌───────┐       \n",
    "    ┌─x1──▶│ Grid  │──┐    \n",
    "    │      └───────┘  │    \n",
    "┌───────┐      ▲      │    \n",
    "│ Solar │      │x3    │x4    \n",
    "└───────┘      │      │    \n",
    "    │      ┌───────┐  │    \n",
    "    └─x2──▶│Battery│◀─┘    \n",
    "           └───────┘       \n",
    "```"
   ]
  },
  {
   "cell_type": "code",
   "execution_count": 10,
   "id": "e568c321",
   "metadata": {},
   "outputs": [],
   "source": [
    "# TODO: plug in battery loss somewhere... in bat_SoC\n",
    "charge_loss = 0.97\n",
    "bat_soc = cp.cumsum(x2*charge_loss + x4*charge_loss - x3)\n",
    "d_bat = bat_cap - bat_soc\n",
    "\n",
    "constraints = [\n",
    "    # sales to grid cannot exceed demand of grid\n",
    "    x1 + x3 <= d_grid,\n",
    "    # sales to bat cannot exceed demand (i.e. gap to full) of battery\n",
    "    x2 + x4 <= d_bat,\n",
    "    # buys from solar cannot exceed supply of solar\n",
    "    x1 + x2 <= s_solar,\n",
    "    # sells from battery cannot exceed maximum discharge\n",
    "    x3 <= bat_discharge,\n",
    "    # sells from battery cannot exceed state of charge (SoC)  \n",
    "    x3 <= bat_soc,\n",
    "    # buys from grid cannot exceed supply of grid\n",
    "    x4 <= s_grid,\n",
    "    # SoC cannot exceed battery capacity, i.e. the max over cumulative sum of battery flow cannot exceed capacity \n",
    "    cp.max(bat_soc) <= bat_cap,\n",
    "    # x1 + x2 + x3 + x4 cannot exceed inverters\n",
    "    x1 + x2 + x3 + x4 <= inverter_cap,\n",
    "]"
   ]
  },
  {
   "cell_type": "markdown",
   "id": "c12bc3be",
   "metadata": {},
   "source": [
    "### Solve problem"
   ]
  },
  {
   "cell_type": "code",
   "execution_count": 11,
   "id": "06b023f6",
   "metadata": {},
   "outputs": [
    {
     "name": "stdout",
     "output_type": "stream",
     "text": [
      "Stikledning ampere = 63 A\n",
      "Solar only = 387.06 DKK\n",
      "Solar + arbitrage = 564.19 DKK\n",
      "- Solar to grid (x1) = 376.95 DKK\n",
      "- Solar to battery (x2) = -0.78 DKK\n",
      "- Battery to grid (x3) = 191.51 DKK\n",
      "- Grid to battery (x4) = -3.48 DKK\n",
      "- Check:  564.2 DKK\n",
      "Arbitrage lift (percent) = 45.76%\n",
      "\n",
      "\n"
     ]
    },
    {
     "data": {
      "image/png": "[encoded data removed]",
      "text/plain": [
       "<Figure size 1080x576 with 1 Axes>"
      ]
     },
     "metadata": {
      "needs_background": "light"
     },
     "output_type": "display_data"
    }
   ],
   "source": [
    "prob = cp.Problem(objective, constraints)\n",
    "result = prob.solve()\n",
    "s_solar_clipped = np.clip(s_solar, 0, d_grid.value)\n",
    "result_solaronly = np.round((s_solar_clipped@p_x1).value, 2)\n",
    "result_solar_and_arb = np.round(result, 2)\n",
    "\n",
    "x1_component = cp.sum(x1@p_x1).value.round(2)\n",
    "x2_component = cp.sum(x2@p_x2).value.round(2)\n",
    "x3_component = cp.sum(x3@p_x3).value.round(2)\n",
    "x4_component = cp.sum(x4@p_x4).value.round(2)\n",
    "\n",
    "print('Stikledning ampere =', STIKLEDNING_A, 'A')\n",
    "print('Solar only =', result_solaronly, 'DKK')\n",
    "print('Solar + arbitrage =', result_solar_and_arb, 'DKK')\n",
    "print('- Solar to grid (x1) =', x1_component, 'DKK')\n",
    "print('- Solar to battery (x2) =', x2_component, 'DKK')\n",
    "print('- Battery to grid (x3) =', x3_component, 'DKK')\n",
    "print('- Grid to battery (x4) =', x4_component, 'DKK')\n",
    "print('- Check: ', np.round(x1_component + x2_component + x3_component + x4_component, 2), 'DKK')\n",
    "arb_lift = np.round(100*((result_solar_and_arb / result_solaronly) - 1), 2)\n",
    "print(f'Arbitrage lift (percent) = {arb_lift}%')\n",
    "print()\n",
    "#hours_per_year = 365*24\n",
    "#yearly_revenue = np.round(hours_per_year*result_solar_and_arb/len(spot_dkk), 2)\n",
    "#print(f'Extrapolated yearly revenue (after depreciation) = {yearly_revenue} DKK')\n",
    "\n",
    "#print('Solar to grid:', x1.value.round(3), 'maximum:', max(x1.value.round(3)))\n",
    "#print('Solar to battery:', x2.value.round(3), 'maximum:', max(x2.value.round(3)))\n",
    "#print('Battery to grid:', x3.value.round(3), 'maximum:', max(x3.value.round(3)))\n",
    "#print('Grid to battery:', x4.value.round(3), 'maximum:', max(x4.value.round(3)))\n",
    "#print(np.round(constraints[0].dual_value, 2))\n",
    "print()\n",
    "\n",
    "dts = [pd.to_datetime(d) for d in df.HourDK]\n",
    "h = [f'{d.day}-{d.hour}' for d in dts]\n",
    "hs = np.tile(h, 4)\n",
    "h = np.tile(np.arange(n), 4)\n",
    "p = spot_dkk\n",
    "ps = np.tile(p, 4)\n",
    "df_plot = pd.DataFrame({\n",
    "    'h': hs,\n",
    "    'spot_dkk': ps,\n",
    "    'kWh': (\n",
    "        x1.value.tolist()\n",
    "        +x2.value.tolist()\n",
    "        +x3.value.tolist()\n",
    "        +x4.value.tolist()),\n",
    "    'var': (\n",
    "        ['x1']*n\n",
    "        + ['x2']*n\n",
    "        + ['x3']*n\n",
    "        + ['x4']*n\n",
    "    )\n",
    "})\n",
    "plt.figure(figsize=(15,8))\n",
    "sns.lineplot(data=df_plot, x='h', y='spot_dkk', label='spot_dkk')\n",
    "sns.barplot(data=df_plot, x='h', y='kWh', hue='var')\n",
    "plt.xticks(rotation=45)\n",
    "plt.show()"
   ]
  },
  {
   "cell_type": "code",
   "execution_count": null,
   "id": "e1639fdb",
   "metadata": {},
   "outputs": [],
   "source": []
  }
 ],
 "metadata": {
  "kernelspec": {
   "display_name": "Python 3 (ipykernel)",
   "language": "python",
   "name": "python3"
  },
  "language_info": {
   "codemirror_mode": {
    "name": "ipython",
    "version": 3
   },
   "file_extension": ".py",
   "mimetype": "text/x-python",
   "name": "python",
   "nbconvert_exporter": "python",
   "pygments_lexer": "ipython3",
   "version": "3.9.5"
  }
 },
 "nbformat": 4,
 "nbformat_minor": 5
}
